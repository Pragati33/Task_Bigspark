﻿{
  "metadata": {
    "name": "bigspark_nhs_data_analysis",
    "kernelspec": {
      "language": "scala",
      "name": "spark2-scala"
    },
    "language_info": {
      "codemirror_mode": "text/x-scala",
      "file_extension": ".scala",
      "mimetype": "text/x-scala",
      "name": "scala",
      "pygments_lexer": "scala"
    }
  },
  "nbformat": 4,
  "nbformat_minor": 2,
  "cells": [
    {
      "cell_type": "markdown",
      "metadata": {},
      "source": "# Detailed Analysis of the Nationwide Covid Jab (1st /2nd) Distribution and Death rate during the year 2021"
    },
    {
      "cell_type": "markdown",
      "metadata": {},
      "source": "### Imports"
    },
    {
      "cell_type": "code",
      "execution_count": 2,
      "metadata": {
        "autoscroll": "auto"
      },
      "outputs": [],
      "source": "%python\n!pip install cufflinks\n!pip install dash\n!pip install matplotlib\n!pip install sklearn\n"
    },
    {
      "cell_type": "code",
      "execution_count": 3,
      "metadata": {
        "autoscroll": "auto"
      },
      "outputs": [],
      "source": "%python\nimport os\nimport sys\nimport pandas as pd\nimport numpy as np\nimport matplotlib.pyplot as plt\n\n\nimport plotly \nimport plotly.express as px\nimport plotly.graph_objects as go\nimport plotly.offline as pyo\nimport dash\nimport dash_core_components as dcc\nfrom dash import html\nfrom sklearn import preprocessing \nimport cufflinks as cf\nfrom plotly.subplots import make_subplots\nfrom dash.dependencies import Input, Output\n%matplotlib inline\n\npyo.init_notebook_mode()"
    },
    {
      "cell_type": "markdown",
      "metadata": {},
      "source": "### England"
    },
    {
      "cell_type": "code",
      "execution_count": 5,
      "metadata": {
        "autoscroll": "auto"
      },
      "outputs": [],
      "source": "%python\n# path \u003d os.path.join(os.getcwd())\npath \u003d \u0027/home/shank/Desktop/bigspark/data\u0027\ndatalist\u003dos.listdir(path)\nLst_fig_eng\u003d[]\ndatalist\n# print(os.getcwd())"
    },
    {
      "cell_type": "code",
      "execution_count": 6,
      "metadata": {
        "autoscroll": "auto"
      },
      "outputs": [],
      "source": "%python\nfile_names\u003d[\"N_ENG.csv\",\u0027N_ENG_DEATH\u0027]\nfor d in datalist:\n    for file_name in file_names:\n        if file_name in d:\n            os.chdir(path)\n            data1\u003dpd.read_csv(\"N_ENG.csv\")\n            data_d1\u003dpd.read_csv(\"N_ENG_DEATH.csv\")\nprint(\"files found and data appended to dataframes...\")\n"
    },
    {
      "cell_type": "code",
      "execution_count": 7,
      "metadata": {
        "autoscroll": "auto"
      },
      "outputs": [],
      "source": "%python\nprint(data1)\ndummy_data_1\u003ddata1[\u0027areaName\u0027]\ndummy_data_1"
    },
    {
      "cell_type": "code",
      "execution_count": 8,
      "metadata": {
        "autoscroll": "auto"
      },
      "outputs": [],
      "source": "%python\ndata1"
    },
    {
      "cell_type": "code",
      "execution_count": 9,
      "metadata": {
        "autoscroll": "auto"
      },
      "outputs": [],
      "source": "%python\ndata1.drop(columns\u003d[\u0027areaCode\u0027,\u0027areaType\u0027,\u0027areaName\u0027],axis\u003d1, inplace\u003dTrue)\ndata1.rename(columns\u003d{\"cumPeopleVaccinatedFirstDoseByPublishDate\":\"First_Dose\",\"cumPeopleVaccinatedSecondDoseByPublishDate\":\"Second_Dose\"},inplace\u003dTrue)\n# data1[\u0027date\u0027].sort_index(ascending\u003dTrue)\n# data1\ndata1"
    },
    {
      "cell_type": "code",
      "execution_count": 10,
      "metadata": {
        "autoscroll": "auto"
      },
      "outputs": [],
      "source": "%python\ndata_d1.rename(columns\u003d{\u0027cumDailyNsoDeathsByDeathDate\u0027:\u0027deaths\u0027},inplace\u003dTrue)\ndata_d1\u003dpd.DataFrame(data_d1[\u0027deaths\u0027])\ndata_d1"
    },
    {
      "cell_type": "code",
      "execution_count": 11,
      "metadata": {
        "autoscroll": "auto"
      },
      "outputs": [],
      "source": "%python\ndata_all_1\u003dpd.concat([data1,data_d1],axis\u003d1)\ndata_all_1"
    },
    {
      "cell_type": "code",
      "execution_count": 12,
      "metadata": {
        "autoscroll": "auto"
      },
      "outputs": [],
      "source": "%python\npct_first\u003dpd.DataFrame(data_all_1[\u0027First_Dose\u0027].pct_change())\npct_second\u003dpd.DataFrame(data_all_1[\u0027Second_Dose\u0027].pct_change())\npct_deaths\u003dpd.DataFrame(data_all_1[\u0027deaths\u0027].pct_change())\ndf_pct1\u003dpd.concat([data_all_1,pct_first,\n                  pct_second,pct_deaths],axis\u003d1)\ndf_pct1.tail()\ndf_pct1.dropna(inplace\u003dTrue)\ndf_pct1"
    },
    {
      "cell_type": "code",
      "execution_count": 13,
      "metadata": {
        "autoscroll": "auto"
      },
      "outputs": [],
      "source": "%python\ndf_uniq\u003dpd.Series(df_pct1.columns)\nfor dup in df_pct1.columns[df_pct1.columns.duplicated(keep\u003dFalse)]: \n    df_uniq[df_pct1.columns.get_loc(dup)] \u003d ([dup + \u0027.\u0027 + str(d_idx) \n                                     if d_idx !\u003d 0 \n                                     else dup \n                                     for d_idx in range(df_pct1.columns.get_loc(dup).sum())])\ndf_pct1.columns\u003ddf_uniq\ndf_pct1\u003dpd.concat([df_pct1,dummy_data_1],axis\u003d1)\ndf_pct1.dropna(inplace\u003dTrue)\ndf_pct1"
    },
    {
      "cell_type": "code",
      "execution_count": 14,
      "metadata": {
        "autoscroll": "auto"
      },
      "outputs": [],
      "source": "%python\nfig1 \u003d px.line(df_pct1, x\u003ddf_pct1.date, y\u003d[\u0027First_Dose\u0027],\n               hover_name \u003ddf_pct1.areaName)\nfig1.update_layout(title\u003d\u0027First Dosage Vaccination Count in England during 2021\u0027,\n                xaxis_title\u003d\u0027Dates\u0027,yaxis_title\u003d\u0027Count of First Dose\u0027)\nLst_fig_eng.append(fig1)\n# fig1.show()\n# pyo.iplot(fig1)"
    },
    {
      "cell_type": "code",
      "execution_count": 15,
      "metadata": {
        "autoscroll": "auto"
      },
      "outputs": [],
      "source": "%python\nfig2 \u003d px.line(df_pct1, x\u003ddf_pct1.date, y\u003d[\u0027Second_Dose\u0027],\n               hover_name \u003ddf_pct1.areaName)\nfig2\u003dgo.Figure()\nfig2.add_trace(go.Scatter(x\u003ddf_pct1.date, y\u003ddf_pct1.Second_Dose,\n                         mode\u003d\u0027lines\u0027,name\u003d\u0027Second Jab Completion\u0027,\n                         line\u003ddict(color\u003d\u0027seagreen\u0027, dash\u003d\u0027dash\u0027)))\nfig2.update_layout(title\u003d\u0027Second Dosage Vaccination Count in England during 2021\u0027,\n                xaxis_title\u003d\u0027Dates\u0027,yaxis_title\u003d\u0027Count of Second Dose\u0027)\nLst_fig_eng.append(fig2)\nfig2.show()"
    },
    {
      "cell_type": "code",
      "execution_count": 16,
      "metadata": {
        "autoscroll": "auto"
      },
      "outputs": [],
      "source": "%python\nfig3 \u003d px.line(df_pct1, x\u003ddf_pct1.date, y\u003d[\u0027deaths\u0027],\n              hover_name \u003ddf_pct1.areaName)\nfig3\u003dgo.Figure()\nfig3.add_trace(go.Scatter(x\u003ddf_pct1.date, y\u003ddf_pct1.deaths,\n                         mode\u003d\u0027lines\u0027,name\u003d\u0027Deaths\u0027,\n                         line\u003ddict(color\u003d\u0027firebrick\u0027, dash\u003d\u0027dot\u0027)))\nfig3.update_layout(title\u003d\u0027Death Count in England during 2021\u0027,\n                xaxis_title\u003d\u0027Dates\u0027,yaxis_title\u003d\u0027Count of Deaths\u0027)\nLst_fig_eng.append(fig3)\n# fig3.show()"
    },
    {
      "cell_type": "code",
      "execution_count": 17,
      "metadata": {
        "autoscroll": "auto"
      },
      "outputs": [],
      "source": "%python\nfig4 \u003d px.line(df_pct1, x\u003d\"date\", y\u003d[\u0027First_Dose\u0027,\u0027Second_Dose\u0027,\u0027deaths\u0027])\nfig4\u003dgo.Figure()\nfig4.add_trace(go.Scatter(x\u003ddf_pct1.date, y\u003ddf_pct1.First_Dose,\n                         mode\u003d\u0027lines\u0027,name\u003d\u0027First Jab Completion\u0027,\n                         line\u003ddict(dash\u003d\u0027dash\u0027)))\nfig4.add_trace(go.Scatter(x\u003ddf_pct1.date, y\u003ddf_pct1.Second_Dose,\n                         mode\u003d\u0027lines\u0027,name\u003d\u0027Second Jab Completion\u0027,\n                         line\u003ddict(color\u003d\u0027seagreen\u0027,dash\u003d\u0027dot\u0027)))\nfig4.add_trace(go.Scatter(x\u003ddf_pct1.date, y\u003ddf_pct1.deaths,\n                         mode\u003d\u0027lines\u0027,name\u003d\u0027deaths\u0027,\n                         line\u003ddict(color\u003d\u0027firebrick\u0027,width\u003d3,\n                                  dash\u003d\u0027solid\u0027)))\nfig4.update_layout(title\u003d\u0027Vaccination VS Death Count in England in 2021\u0027,\n                xaxis_title\u003d\u0027Dates\u0027,yaxis_title\u003d\u0027Count of completed Doses and Deaths\u0027,\n                xaxis\u003ddict(\n                showline\u003dFalse, showgrid\u003dFalse, showticklabels\u003dTrue, \n                linecolor\u003d\u0027rgb(204,204,204)\u0027,linewidth \u003d2,\n                ticks\u003d\u0027outside\u0027, tickfont\u003ddict(family\u003d\u0027Arial\u0027,\n                size\u003d12, color\u003d\u0027rgb(82,82,82)\u0027),),\n                yaxis \u003d dict(\n                showline\u003dFalse, showgrid\u003dFalse, showticklabels\u003dTrue, \n                linecolor\u003d\u0027rgb(204,204,204)\u0027,linewidth \u003d2,\n                ticks\u003d\u0027outside\u0027, tickfont\u003ddict(family\u003d\u0027Arial\u0027,\n                size\u003d12, color\u003d\u0027rgb(82,82,82)\u0027),),)\nLst_fig_eng.append(fig4)\n# fig4.show()\n\n##################################################\n\nfig5 \u003d px.line(df_pct1, x\u003d\"date\", y\u003d[\u0027First_Dose.1\u0027,\u0027Second_Dose.1\u0027,\u0027deaths.1\u0027])\nfig5\u003dgo.Figure()\nfig5.add_trace(go.Scatter(x\u003ddf_pct1.date, y\u003ddf_pct1[\u0027First_Dose.1\u0027],\n                         mode\u003d\u0027lines\u0027,name\u003d\u0027First Jab Completion\u0027,\n                         line\u003ddict(dash\u003d\u0027dash\u0027)))\nfig5.add_trace(go.Scatter(x\u003ddf_pct1.date, y\u003ddf_pct1[\u0027Second_Dose.1\u0027],\n                         mode\u003d\u0027lines\u0027,name\u003d\u0027Second Jab Completion\u0027,\n                         line\u003ddict(color\u003d\u0027seagreen\u0027,dash\u003d\u0027dot\u0027)))\nfig5.add_trace(go.Scatter(x\u003ddf_pct1.date, y\u003ddf_pct1[\u0027deaths.1\u0027],\n                         mode\u003d\u0027lines\u0027,name\u003d\u0027deaths\u0027,\n                         line\u003ddict(color\u003d\u0027firebrick\u0027,width\u003d3,dash\u003d\u0027solid\u0027)))\nfig5.update_layout(title\u003d\u0027Vaccination VS Death Percentile in England in 2021\u0027,\n                xaxis_title\u003d\u0027Dates\u0027,yaxis_title\u003d\u0027Percentile of completed Doses and Deaths\u0027,\n                xaxis\u003ddict(\n                showline\u003dFalse, showgrid\u003dFalse, showticklabels\u003dTrue, \n                linecolor\u003d\u0027rgb(204,204,204)\u0027,linewidth \u003d2,\n                ticks\u003d\u0027outside\u0027, tickfont\u003ddict(family\u003d\u0027Arial\u0027,\n                size\u003d12, color\u003d\u0027rgb(82,82,82)\u0027),),\n                yaxis \u003d dict(\n                showline\u003dFalse, showgrid\u003dFalse, showticklabels\u003dTrue, \n                linecolor\u003d\u0027rgb(204,204,204)\u0027,linewidth \u003d2,\n                ticks\u003d\u0027outside\u0027, tickfont\u003ddict(family\u003d\u0027Arial\u0027,\n                size\u003d12, color\u003d\u0027rgb(82,82,82)\u0027),),)\nLst_fig_eng.append(fig5)\n# fig5.show()"
    },
    {
      "cell_type": "code",
      "execution_count": 18,
      "metadata": {
        "autoscroll": "auto"
      },
      "outputs": [],
      "source": "%python\n# fig4 \u003d px.line_3d(df_pct1, x\u003d\"First_Dose\", y\u003d\u0027Second_Dose\u0027, z\u003d\u0027date\u0027,\n#                   color \u003d\u0027date\u0027,range_x\u003d[0,1000000],range_y\u003d[0,10000000],range_z\u003d[0,10000000])\n# #                labels\u003d{\u0027x\u0027:\u0027Dates\u0027,\u0027y\u0027:\u0027Count of completed Doses\u0027},\n# #                title\u003d\u0027Vaccination VS Death Count in England in 2021\u0027)\n# fig4.show()\n\n# fig5 \u003d px.line_3d(df_pct1, x\u003d\"First_Dose.1\", y\u003d\u0027Second_Dose.1\u0027, z\u003d\u0027date\u0027,\n#                   color \u003d\u0027date\u0027,range_x\u003d[0,1000],range_y\u003d[0,1000],range_z\u003d[0,1000])\n# #                labels\u003d{\u0027x\u0027:\u0027Dates\u0027,\u0027y\u0027:\u0027Count of completed Doses\u0027},\n# #                title\u003d\u0027Vaccination VS Death Percentile  in England in 2021\u0027)\n# fig5.show()"
    },
    {
      "cell_type": "code",
      "execution_count": 19,
      "metadata": {
        "autoscroll": "auto"
      },
      "outputs": [],
      "source": "%python\ndifference_1 \u003d df_pct1[\u0027First_Dose\u0027].diff();\nprint(\"Difference between rows(Period\u003d1):\");\ndiff1\u003dpd.DataFrame(difference_1)\ndiff1.rename(columns\u003d{\u0027First_Dose\u0027:\u0027Daily_First_Dose\u0027},inplace\u003dTrue)\ndiff1.dropna(inplace\u003dTrue)\ndiff1"
    },
    {
      "cell_type": "code",
      "execution_count": 20,
      "metadata": {
        "autoscroll": "auto"
      },
      "outputs": [],
      "source": "%python\ndifference_2 \u003d df_pct1[\u0027Second_Dose\u0027].diff();\nprint(\"Difference between rows(Period\u003d1):\");\ndiff2\u003dpd.DataFrame(difference_2)\ndiff2.rename(columns\u003d{\u0027Second_Dose\u0027:\u0027Daily_Second_Dose\u0027},inplace\u003dTrue)\ndiff2.dropna(inplace\u003dTrue)\ndiff2"
    },
    {
      "cell_type": "code",
      "execution_count": 21,
      "metadata": {
        "autoscroll": "auto"
      },
      "outputs": [],
      "source": "%python\ndifference_3 \u003d df_pct1[\u0027deaths\u0027].diff();\nprint(\"Difference between rows(Period\u003d1):\");\ndiff3\u003dpd.DataFrame(difference_3)\ndiff3.rename(columns\u003d{\u0027deaths\u0027:\u0027Daily_death_count\u0027},inplace\u003dTrue)\ndiff3.dropna(inplace\u003dTrue)\ndiff3"
    },
    {
      "cell_type": "code",
      "execution_count": 22,
      "metadata": {
        "autoscroll": "auto"
      },
      "outputs": [],
      "source": "%python\ndaily_df1\u003dpd.concat([diff1,diff2,diff3],axis\u003d1)\ndaily_df1\u003dpd.concat([df_pct1.date,daily_df1], axis\u003d1)\ndaily_df1.dropna(inplace\u003dTrue)\ndaily_df1"
    },
    {
      "cell_type": "code",
      "execution_count": 23,
      "metadata": {
        "autoscroll": "auto"
      },
      "outputs": [],
      "source": "%python\nfig6 \u003d px.line(daily_df1, x\u003d\"date\", y\u003d[\u0027Daily_First_Dose\u0027,\u0027Daily_Second_Dose\u0027,\u0027Daily_death_count\u0027])\nfig6\u003dgo.Figure()\nfig6.add_trace(go.Scatter(x\u003ddaily_df1.date, y\u003ddaily_df1[\u0027Daily_First_Dose\u0027],\n                         mode\u003d\u0027lines\u0027,name\u003d\u0027First Jab Daily Count\u0027,\n                        line\u003ddict(color\u003d\u0027orchid\u0027,dash\u003d\u0027dot\u0027)))\nfig6.add_trace(go.Scatter(x\u003ddaily_df1.date, y\u003ddaily_df1[\u0027Daily_Second_Dose\u0027],\n                         mode\u003d\u0027lines\u0027,name\u003d\u0027Second Jab Daily Count\u0027,\n                         line\u003ddict(color\u003d\u0027olive\u0027,dash\u003d\u0027dot\u0027)))\nfig6.add_trace(go.Scatter(x\u003ddaily_df1.date, y\u003ddaily_df1[\u0027Daily_death_count\u0027],\n                         mode\u003d\u0027lines\u0027,name\u003d\u0027deaths\u0027,\n                         line\u003ddict(color\u003d\u0027mediumaquamarine\u0027,width\u003d3,dash\u003d\u0027solid\u0027)))\nfig6.update_layout(title\u003d\u0027Comparison between everyday vaccination and death count in England during 2021\u0027,\n                xaxis_title\u003d\u0027Dates\u0027,yaxis_title\u003d\u0027Everyday count of completed Doses and Deaths\u0027,\n                xaxis\u003ddict(\n                showline\u003dFalse, showgrid\u003dFalse, showticklabels\u003dTrue, \n                linecolor\u003d\u0027rgb(204,204,204)\u0027,linewidth \u003d2,\n                ticks\u003d\u0027outside\u0027, tickfont\u003ddict(family\u003d\u0027Arial\u0027,\n                size\u003d12, color\u003d\u0027rgb(82,82,82)\u0027),),\n                yaxis \u003d dict(\n                showline\u003dFalse, showgrid\u003dFalse, showticklabels\u003dTrue, \n                linecolor\u003d\u0027rgb(204,204,204)\u0027,linewidth \u003d2,\n                ticks\u003d\u0027outside\u0027, tickfont\u003ddict(family\u003d\u0027Arial\u0027,\n                size\u003d12, color\u003d\u0027rgb(82,82,82)\u0027),),)\nLst_fig_eng.append(fig6)\n# fig6.show()"
    },
    {
      "cell_type": "code",
      "execution_count": 24,
      "metadata": {
        "autoscroll": "auto"
      },
      "outputs": [],
      "source": "%python\ndaily_df1\nf_d\u003ddaily_df1[[\u0027Daily_First_Dose\u0027,\u0027Daily_Second_Dose\u0027,\u0027Daily_death_count\u0027]]\nf_d.astype(int)"
    },
    {
      "cell_type": "code",
      "execution_count": 25,
      "metadata": {
        "autoscroll": "auto"
      },
      "outputs": [],
      "source": "%python\ncols \u003d f_d.columns\ncols\ndf \u003d pd.DataFrame(f_d)\ndf"
    },
    {
      "cell_type": "code",
      "execution_count": 26,
      "metadata": {
        "autoscroll": "auto"
      },
      "outputs": [],
      "source": "%python\nmin_max_scaler \u003d preprocessing.MinMaxScaler()\nnp_scaled \u003d min_max_scaler.fit_transform(df)\ndf_normalized1 \u003d pd.DataFrame(np_scaled, columns \u003d cols)\ndf_normalized1"
    },
    {
      "cell_type": "code",
      "execution_count": 27,
      "metadata": {
        "autoscroll": "auto"
      },
      "outputs": [],
      "source": "%python\ndf_normalized_all1\u003dpd.concat([daily_df1.date,df_normalized1], axis\u003d1)\ndf_normalized_all1\u003ddf_normalized_all1.dropna()"
    },
    {
      "cell_type": "code",
      "execution_count": 28,
      "metadata": {
        "autoscroll": "auto"
      },
      "outputs": [],
      "source": "%python\nfig7 \u003d px.line(daily_df1, x\u003ddaily_df1.date, y\u003ddaily_df1.Daily_death_count)\nfig7.add_trace(go.Scatter(x\u003ddaily_df1.date, y\u003ddaily_df1[\u0027Daily_death_count\u0027],\n                         mode\u003d\u0027lines+markers\u0027,name\u003d\u0027Daily Deaths\u0027,\n                         line\u003ddict(color\u003d\u0027firebrick\u0027,width\u003d4,dash\u003d\u0027longdash\u0027)))\nfig7.update_layout(title\u003d\u0027Everyday deaths in England during 2021\u0027,\n                xaxis_title\u003d\u0027Dates\u0027,yaxis_title\u003d\u0027Number of deaths\u0027,\n                xaxis\u003ddict(\n                showline\u003dFalse, showgrid\u003dFalse, showticklabels\u003dTrue, \n                linecolor\u003d\u0027rgb(204,204,204)\u0027,linewidth \u003d2,\n                ticks\u003d\u0027outside\u0027, tickfont\u003ddict(family\u003d\u0027Arial\u0027,\n                size\u003d12, color\u003d\u0027rgb(82,82,82)\u0027),),\n                yaxis \u003d dict(\n                showline\u003dFalse, showgrid\u003dFalse, showticklabels\u003dTrue, \n                linecolor\u003d\u0027rgb(204,204,204)\u0027,linewidth \u003d2,\n                ticks\u003d\u0027outside\u0027, tickfont\u003ddict(family\u003d\u0027Arial\u0027,\n                size\u003d12, color\u003d\u0027rgb(82,82,82)\u0027),),)\nLst_fig_eng.append(fig7)\n# fig7.show()"
    },
    {
      "cell_type": "code",
      "execution_count": 29,
      "metadata": {
        "autoscroll": "auto"
      },
      "outputs": [],
      "source": "%python\nfig8 \u003d px.line(df_normalized_all1, x\u003d\u0027date\u0027, y\u003d[\u0027Daily_First_Dose\u0027,\u0027Daily_Second_Dose\u0027,\u0027Daily_death_count\u0027])\nfig8\u003dgo.Figure()\nfig8.add_trace(go.Scatter(x\u003ddf_normalized_all1.date, y\u003ddf_normalized_all1[\u0027Daily_First_Dose\u0027],\n                         mode\u003d\u0027lines\u0027,name\u003d\u0027First Jab Completion\u0027,\n                         line\u003ddict(color\u003d\u0027rebeccapurple\u0027,dash\u003d\u0027dash\u0027)))\nfig8.add_trace(go.Scatter(x\u003ddf_normalized_all1.date, y\u003ddf_normalized_all1[\u0027Daily_Second_Dose\u0027],\n                         mode\u003d\u0027lines\u0027,name\u003d\u0027Second Jab Completion\u0027,\n                         line\u003ddict(color\u003d\u0027lime\u0027,dash\u003d\u0027dot\u0027)))\nfig8.add_trace(go.Scatter(x\u003ddf_normalized_all1.date, y\u003ddf_normalized_all1[\u0027Daily_death_count\u0027],\n                         mode\u003d\u0027lines\u0027,name\u003d\u0027deaths\u0027,\n                         line\u003ddict(color\u003d\u0027firebrick\u0027,width\u003d3,dash\u003d\u0027solid\u0027)))\nfig8.update_layout(title\u003d\u0027Everyday vaccination rate and its impact on death rate in England during 2021\u0027,\n                xaxis_title\u003d\u0027Dates\u0027,yaxis_title\u003d\u0027Normalised Counts\u0027,\n                xaxis\u003ddict(\n                showline\u003dFalse, showgrid\u003dFalse, showticklabels\u003dTrue, \n                linecolor\u003d\u0027rgb(204,204,204)\u0027,linewidth \u003d2,\n                ticks\u003d\u0027outside\u0027, tickfont\u003ddict(family\u003d\u0027Arial\u0027,\n                size\u003d12, color\u003d\u0027rgb(82,82,82)\u0027),),\n                yaxis \u003d dict(\n                showline\u003dFalse, showgrid\u003dFalse, showticklabels\u003dTrue, \n                linecolor\u003d\u0027rgb(204,204,204)\u0027,linewidth \u003d2,\n                ticks\u003d\u0027outside\u0027, tickfont\u003ddict(family\u003d\u0027Arial\u0027,\n                size\u003d12, color\u003d\u0027rgb(82,82,82)\u0027),),)\nLst_fig_eng.append(fig8)\n# fig8.show()"
    },
    {
      "cell_type": "code",
      "execution_count": 30,
      "metadata": {
        "autoscroll": "auto"
      },
      "outputs": [],
      "source": "%python\n# fig9 \u003d px.bar(daily_df, x\u003ddaily_df1.date, y\u003ddaily_df.Daily_death_count, \n#                title\u003d\u0027Everyday deaths in England during 2021\u0027)\n# fig9.show()"
    },
    {
      "cell_type": "code",
      "execution_count": 31,
      "metadata": {
        "autoscroll": "auto"
      },
      "outputs": [],
      "source": "%python\ndf_normalized_all1"
    },
    {
      "cell_type": "code",
      "execution_count": 32,
      "metadata": {
        "autoscroll": "auto"
      },
      "outputs": [],
      "source": "%python\nx0\u003ddf_normalized_all1[\u0027Daily_First_Dose\u0027]\nx1\u003ddf_normalized_all1[\u0027Daily_Second_Dose\u0027]\nx2\u003ddf_normalized_all1[\u0027Daily_death_count\u0027]\ny\u003ddf_normalized_all1[\u0027date\u0027]\nfig_hist1 \u003dpx.histogram(df_normalized_all1,x\u003d\u0027Daily_death_count\u0027,\n                        nbins\u003d15, marginal\u003d\u0027violin\u0027)\n# fig_hist1 \u003d go.Figure()\nfig_hist1.add_trace(go.Histogram(x\u003dx0,name\u003d\u0027First_dose\u0027))\nfig_hist1.add_trace(go.Histogram(x\u003dx1,name\u003d\u0027Second_dose\u0027))\n# fig_hist1.add_trace(go.Histogram(x\u003dx2))\n\n# # Reduce opacity to see both histograms\nfig_hist1.update_traces(opacity\u003d0.80)\n\n# # Overlay all histograms\nfig_hist1.update_layout(barmode\u003d\u0027overlay\u0027,\n                   title\u003d\u0027Vaccination VS Death rate in England in 2021\u0027,\n                xaxis_title\u003d\u0027Normalised scale\u0027,yaxis_title\u003d\u0027Normalised Counts\u0027,\n                xaxis\u003ddict(\n                showline\u003dFalse, showgrid\u003dFalse, showticklabels\u003dTrue, \n                linecolor\u003d\u0027rgb(204,204,204)\u0027,linewidth \u003d2,\n                ticks\u003d\u0027outside\u0027, tickfont\u003ddict(family\u003d\u0027Arial\u0027,\n                size\u003d12, color\u003d\u0027rgb(82,82,82)\u0027),),\n                yaxis \u003d dict(\n                showline\u003dFalse, showgrid\u003dFalse, showticklabels\u003dTrue, \n                linecolor\u003d\u0027rgb(204,204,204)\u0027,linewidth \u003d2,\n                ticks\u003d\u0027outside\u0027, tickfont\u003ddict(family\u003d\u0027Arial\u0027,\n                size\u003d12, color\u003d\u0027rgb(82,82,82)\u0027),),)\nLst_fig_eng.append(fig_hist1)\n# fig_hist1.show()"
    },
    {
      "cell_type": "code",
      "execution_count": 33,
      "metadata": {
        "autoscroll": "auto"
      },
      "outputs": [],
      "source": "%python\n# Lst_fig_eng"
    },
    {
      "cell_type": "code",
      "execution_count": 34,
      "metadata": {
        "autoscroll": "auto"
      },
      "outputs": [],
      "source": "%python\n# import dash\n# app \u003d dash.Dash()\n# app.layout \u003d html.Div(className\u003d\u0027row\u0027, children\u003d[\n#     html.H1(\"NHS COVID Data analysis for ENGLAND\"),\n#     dcc.Dropdown(),\n#     html.Div(children\u003d[\n#         dcc.Graph(id\u003d\"Graph1\",figure\u003dfig1, style\u003d{\u0027display\u0027: \u0027inline-block\u0027}),\n#         dcc.Graph(id\u003d\"Graph2\",figure\u003dfig2, style\u003d{\u0027display\u0027: \u0027inline-block\u0027}),\n#         dcc.Graph(id\u003d\"Graph3\",figure\u003dfig3, style\u003d{\u0027display\u0027: \u0027inline-block\u0027}),\n#         dcc.Graph(id\u003d\"Graph4\",figure\u003dfig4, style\u003d{\u0027display\u0027: \u0027inline-block\u0027}),\n#         dcc.Graph(id\u003d\"Graph5\",figure\u003dfig5, style\u003d{\u0027display\u0027: \u0027inline-block\u0027}),\n#         dcc.Graph(id\u003d\"Graph6\",figure\u003dfig6, style\u003d{\u0027display\u0027: \u0027inline-block\u0027}),\n#         dcc.Graph(id\u003d\"Graph7\",figure\u003dfig7, style\u003d{\u0027display\u0027: \u0027inline-block\u0027}),\n#         dcc.Graph(id\u003d\"Graph8\",figure\u003dfig8, style\u003d{\u0027display\u0027: \u0027inline-block\u0027}),\n#         dcc.Graph(id\u003d\"Graph9\",figure\u003dfig_hist1, style\u003d{\u0027display\u0027: \u0027inline-block\u0027})        \n#     ])\n# ])\n# app.run_server(debug\u003dFalse, use_reloader\u003dFalse)  # Turn off reloader if inside Jupyter"
    },
    {
      "cell_type": "code",
      "execution_count": 35,
      "metadata": {
        "autoscroll": "auto"
      },
      "outputs": [],
      "source": "// # %python\n// # import dash\n// # app \u003d dash.Dash()\n// # app.layout \u003d html.Div(className\u003d\u0027row\u0027, children\u003d[\n// #     html.H1(\"NHS COVID Data analysis for ENGLAND\"),\n// #     dcc.Dropdown(),\n// #     html.Div(children\u003d[\n// #         dcc.Graph(id\u003d\"Graph1\",figure\u003dfig1, style\u003d{\u0027display\u0027: \u0027inline-block\u0027}),\n// #         dcc.Graph(id\u003d\"Graph2\",figure\u003dfig2, style\u003d{\u0027display\u0027: \u0027inline-block\u0027}),\n// #         dcc.Graph(id\u003d\"Graph3\",figure\u003dfig3, style\u003d{\u0027display\u0027: \u0027inline-block\u0027}),\n// #         dcc.Graph(id\u003d\"Graph4\",figure\u003dfig4, style\u003d{\u0027display\u0027: \u0027inline-block\u0027}),\n// #         dcc.Graph(id\u003d\"Graph5\",figure\u003dfig5, style\u003d{\u0027display\u0027: \u0027inline-block\u0027}),\n// #         dcc.Graph(id\u003d\"Graph6\",figure\u003dfig6, style\u003d{\u0027display\u0027: \u0027inline-block\u0027}),\n// #         dcc.Graph(id\u003d\"Graph7\",figure\u003dfig7, style\u003d{\u0027display\u0027: \u0027inline-block\u0027}),\n// #         dcc.Graph(id\u003d\"Graph8\",figure\u003dfig8, style\u003d{\u0027display\u0027: \u0027inline-block\u0027}),\n// #         dcc.Graph(id\u003d\"Graph9\",figure\u003dfig_hist1, style\u003d{\u0027display\u0027: \u0027inline-block\u0027})        \n// #     ])\n// # ])\n// # app.run_server(debug\u003dFalse, use_reloader\u003dFalse)  # Turn off reloader if inside Jupyter"
    },
    {
      "cell_type": "markdown",
      "metadata": {},
      "source": "### Northen Ireland"
    },
    {
      "cell_type": "code",
      "execution_count": 37,
      "metadata": {
        "autoscroll": "auto"
      },
      "outputs": [],
      "source": "%python\nfile_names\u003d[\"N_IRE.csv\",\u0027N_IRE_DEATH\u0027]\nfor d in datalist:\n    for file_name in file_names:\n        if file_name in d:\n            data2\u003dpd.read_csv(\u0027N_IRE.csv\u0027)\n            data_d2\u003dpd.read_csv(\u0027N_IRE_DEATH.csv\u0027)\nprint(\"files found and data appended to dataframes...\")"
    },
    {
      "cell_type": "code",
      "execution_count": 38,
      "metadata": {
        "autoscroll": "auto"
      },
      "outputs": [],
      "source": "%python\ndata2\ndummy_data_2\u003ddata2[\u0027areaName\u0027]\ndummy_data_2"
    },
    {
      "cell_type": "code",
      "execution_count": 39,
      "metadata": {
        "autoscroll": "auto"
      },
      "outputs": [],
      "source": "%python\ndata2.drop(columns\u003d[\u0027areaCode\u0027,\u0027areaType\u0027,\u0027areaName\u0027],axis\u003d1, inplace\u003dTrue)\ndata2.rename(columns\u003d{\"cumPeopleVaccinatedFirstDoseByPublishDate\":\"First_Dose\",\"cumPeopleVaccinatedSecondDoseByPublishDate\":\"Second_Dose\"},inplace\u003dTrue)"
    },
    {
      "cell_type": "code",
      "execution_count": 40,
      "metadata": {
        "autoscroll": "auto"
      },
      "outputs": [],
      "source": "%python\ndata_d2.rename(columns\u003d{\u0027cumDailyNsoDeathsByDeathDate\u0027:\u0027deaths\u0027},inplace\u003dTrue)\ndata_d2\u003dpd.DataFrame(data_d2[\u0027deaths\u0027])\ndata_d2"
    },
    {
      "cell_type": "code",
      "execution_count": 41,
      "metadata": {
        "autoscroll": "auto"
      },
      "outputs": [],
      "source": "%python\ndata_all_2\u003dpd.concat([data2,data_d2],axis\u003d1)\ndata_all_2\n"
    },
    {
      "cell_type": "code",
      "execution_count": 42,
      "metadata": {
        "autoscroll": "auto"
      },
      "outputs": [],
      "source": "%python\npct_first\u003dpd.DataFrame(data_all_2[\u0027First_Dose\u0027].pct_change())\npct_second\u003dpd.DataFrame(data_all_2[\u0027Second_Dose\u0027].pct_change())\npct_deaths\u003dpd.DataFrame(data_all_2[\u0027deaths\u0027].pct_change())\ndf_pct2\u003dpd.concat([data_all_2,pct_first,\n                  pct_second,pct_deaths],axis\u003d1)"
    },
    {
      "cell_type": "code",
      "execution_count": 43,
      "metadata": {
        "autoscroll": "auto"
      },
      "outputs": [],
      "source": "%python\ndf_pct2.tail()\ndf_pct2.dropna(inplace\u003dTrue)\ndf_pct2"
    },
    {
      "cell_type": "code",
      "execution_count": 44,
      "metadata": {
        "autoscroll": "auto"
      },
      "outputs": [],
      "source": "%python\n# cols\u003dpd.Series(df.columns)\ndf_uniq\u003dpd.Series(df_pct2.columns)\nfor dup in df_pct2.columns[df_pct2.columns.duplicated(keep\u003dFalse)]: \n    df_uniq[df_pct2.columns.get_loc(dup)] \u003d ([dup + \u0027.\u0027 + str(d_idx) \n                                     if d_idx !\u003d 0 \n                                     else dup \n                                     for d_idx in range(df_pct2.columns.get_loc(dup).sum())])\ndf_pct2.columns\u003ddf_uniq\ndf_pct2\u003dpd.concat([df_pct2,dummy_data_2],axis\u003d1)\ndf_pct2.dropna(inplace\u003dTrue)\ndf_pct2"
    },
    {
      "cell_type": "code",
      "execution_count": 45,
      "metadata": {
        "autoscroll": "auto"
      },
      "outputs": [],
      "source": "%python\nfig9 \u003d px.line(df_pct2, x\u003ddf_pct2.date, y\u003d[\u0027First_Dose\u0027],\n               hover_name \u003ddf_pct2.areaName)\nfig9.update_layout(title\u003d\u0027First Dosage Vaccination Count in Northen Ireland during 2021\u0027,\n                xaxis_title\u003d\u0027Dates\u0027,yaxis_title\u003d\u0027Count of First Dose\u0027)\nLst_fig_eng.append(fig9)\n# fig9.show()"
    },
    {
      "cell_type": "code",
      "execution_count": 46,
      "metadata": {
        "autoscroll": "auto"
      },
      "outputs": [],
      "source": "%python\n# fig10 \u003d px.line(df_pct2, x\u003ddf_pct2.date, y\u003d[\u0027Second_Dose\u0027],title\u003d\u0027Second Dosage Vaccination Count in Northen Ireland during 2021\u0027)\n# fig10.show()\nfig10 \u003d px.line(df_pct2, x\u003ddf_pct2.date, y\u003d[\u0027Second_Dose\u0027],\n               hover_name \u003ddf_pct2.areaName)\nfig10\u003dgo.Figure()\nfig10.add_trace(go.Scatter(x\u003ddf_pct2.date, y\u003ddf_pct2.Second_Dose,\n                         mode\u003d\u0027lines\u0027,name\u003d\u0027Second Jab Completion\u0027,\n                         line\u003ddict(color\u003d\u0027seagreen\u0027, dash\u003d\u0027dash\u0027)))\nfig10.update_layout(title\u003d\u0027Second Dosage Vaccination Count in Northen Ireland during 2021\u0027,\n                xaxis_title\u003d\u0027Dates\u0027,yaxis_title\u003d\u0027Count of Second Dose\u0027)\nLst_fig_eng.append(fig10)\n# fig10.show()"
    },
    {
      "cell_type": "code",
      "execution_count": 47,
      "metadata": {
        "autoscroll": "auto"
      },
      "outputs": [],
      "source": "%python\n# fig11 \u003d px.line(df_pct2, x\u003ddf_pct2.date, y\u003d[\u0027deaths\u0027],title\u003d\u0027Death Count in Northen Ireland during 2021\u0027)\n# fig11.show()\n\nfig11 \u003d px.line(df_pct2, x\u003ddf_pct2.date, y\u003d[\u0027deaths\u0027],\n              hover_name \u003ddf_pct2.areaName)\nfig11\u003dgo.Figure()\nfig11.add_trace(go.Scatter(x\u003ddf_pct2.date, y\u003ddf_pct2.deaths,\n                         mode\u003d\u0027lines\u0027,name\u003d\u0027Deaths\u0027,\n                         line\u003ddict(color\u003d\u0027firebrick\u0027, dash\u003d\u0027dot\u0027)))\nfig11.update_layout(title\u003d\u0027Death Count in Northen Ireland during 2021\u0027,\n                xaxis_title\u003d\u0027Dates\u0027,yaxis_title\u003d\u0027Count of Deaths\u0027)\nLst_fig_eng.append(fig11)\n# fig11.show()"
    },
    {
      "cell_type": "code",
      "execution_count": 48,
      "metadata": {
        "autoscroll": "auto"
      },
      "outputs": [],
      "source": "%python\n# fig12 \u003d px.line(df_pct2, x\u003d\"date\", y\u003d[\u0027First_Dose\u0027,\u0027Second_Dose\u0027,\u0027deaths\u0027],\n#                labels\u003d{\u0027x\u0027:\u0027Dates\u0027,\u0027y\u0027:\u0027Count of completed Doses\u0027},\n#                title\u003d\u0027Vaccination VS Deaths Count in Northen Irland in 2021\u0027)\n# fig12.update_traces(textposition\u003d\"bottom right\")\n# fig12.show()\n\nfig12 \u003d px.line(df_pct2, x\u003d\"date\", y\u003d[\u0027First_Dose\u0027,\u0027Second_Dose\u0027,\u0027deaths\u0027])\nfig12\u003dgo.Figure()\nfig12.add_trace(go.Scatter(x\u003ddf_pct2.date, y\u003ddf_pct2.First_Dose,\n                         mode\u003d\u0027lines\u0027,name\u003d\u0027First Jab Completion\u0027,\n                         line\u003ddict(dash\u003d\u0027dash\u0027)))\nfig12.add_trace(go.Scatter(x\u003ddf_pct2.date, y\u003ddf_pct2.Second_Dose,\n                         mode\u003d\u0027lines\u0027,name\u003d\u0027Second Jab Completion\u0027,\n                         line\u003ddict(color\u003d\u0027seagreen\u0027,dash\u003d\u0027dot\u0027)))\nfig12.add_trace(go.Scatter(x\u003ddf_pct2.date, y\u003ddf_pct2.deaths,\n                         mode\u003d\u0027lines\u0027,name\u003d\u0027deaths\u0027,\n                         line\u003ddict(color\u003d\u0027firebrick\u0027,width\u003d3,\n                                  dash\u003d\u0027solid\u0027)))\nfig12.update_layout(title\u003d\u0027Vaccination VS Death Count in Northen Ireland in 2021\u0027,\n                xaxis_title\u003d\u0027Dates\u0027,yaxis_title\u003d\u0027Count of completed Doses and Deaths\u0027,\n                xaxis\u003ddict(\n                showline\u003dFalse, showgrid\u003dFalse, showticklabels\u003dTrue, \n                linecolor\u003d\u0027rgb(204,204,204)\u0027,linewidth \u003d2,\n                ticks\u003d\u0027outside\u0027, tickfont\u003ddict(family\u003d\u0027Arial\u0027,\n                size\u003d12, color\u003d\u0027rgb(82,82,82)\u0027),),\n                yaxis \u003d dict(\n                showline\u003dFalse, showgrid\u003dFalse, showticklabels\u003dTrue, \n                linecolor\u003d\u0027rgb(204,204,204)\u0027,linewidth \u003d2,\n                ticks\u003d\u0027outside\u0027, tickfont\u003ddict(family\u003d\u0027Arial\u0027,\n                size\u003d12, color\u003d\u0027rgb(82,82,82)\u0027),),)\nLst_fig_eng.append(fig12)\n# fig12.show()\n"
    },
    {
      "cell_type": "code",
      "execution_count": 49,
      "metadata": {
        "autoscroll": "auto"
      },
      "outputs": [],
      "source": "%python\n# fig13 \u003d px.line(df_pct2, x\u003d\"date\", y\u003d[\u0027First_Dose.1\u0027,\u0027Second_Dose.1\u0027,\u0027deaths.1\u0027],\n#                labels\u003d{\u0027x\u0027:\u0027Dates\u0027,\u0027y\u0027:\u0027Count of completed Doses\u0027},\n#                title\u003d\u0027Vaccination VS Deaths Percentile  in Northen Irland in 2021\u0027)\n# fig13.show()\n\nfig13 \u003d px.line(df_pct2, x\u003d\"date\", y\u003d[\u0027First_Dose.1\u0027,\u0027Second_Dose.1\u0027,\u0027deaths.1\u0027])\nfig13\u003dgo.Figure()\nfig13.add_trace(go.Scatter(x\u003ddf_pct2.date, y\u003ddf_pct2[\u0027First_Dose.1\u0027],\n                         mode\u003d\u0027lines\u0027,name\u003d\u0027First Jab Completion\u0027,\n                         line\u003ddict(dash\u003d\u0027dash\u0027)))\nfig13.add_trace(go.Scatter(x\u003ddf_pct2.date, y\u003ddf_pct2[\u0027Second_Dose.1\u0027],\n                         mode\u003d\u0027lines\u0027,name\u003d\u0027Second Jab Completion\u0027,\n                         line\u003ddict(color\u003d\u0027seagreen\u0027,dash\u003d\u0027dot\u0027)))\nfig13.add_trace(go.Scatter(x\u003ddf_pct2.date, y\u003ddf_pct2[\u0027deaths.1\u0027],\n                         mode\u003d\u0027lines\u0027,name\u003d\u0027deaths\u0027,\n                         line\u003ddict(color\u003d\u0027firebrick\u0027,width\u003d3,dash\u003d\u0027solid\u0027)))\nfig13.update_layout(title\u003d\u0027Vaccination VS Death Percentile in Northen Ireland in 2021\u0027,\n                xaxis_title\u003d\u0027Dates\u0027,yaxis_title\u003d\u0027Percentile of completed Doses and Deaths\u0027,\n                xaxis\u003ddict(\n                showline\u003dFalse, showgrid\u003dFalse, showticklabels\u003dTrue, \n                linecolor\u003d\u0027rgb(204,204,204)\u0027,linewidth \u003d2,\n                ticks\u003d\u0027outside\u0027, tickfont\u003ddict(family\u003d\u0027Arial\u0027,\n                size\u003d12, color\u003d\u0027rgb(82,82,82)\u0027),),\n                yaxis \u003d dict(\n                showline\u003dFalse, showgrid\u003dFalse, showticklabels\u003dTrue, \n                linecolor\u003d\u0027rgb(204,204,204)\u0027,linewidth \u003d2,\n                ticks\u003d\u0027outside\u0027, tickfont\u003ddict(family\u003d\u0027Arial\u0027,\n                size\u003d12, color\u003d\u0027rgb(82,82,82)\u0027),),)\nLst_fig_eng.append(fig13)\n# fig13.show()\n"
    },
    {
      "cell_type": "code",
      "execution_count": 50,
      "metadata": {
        "autoscroll": "auto"
      },
      "outputs": [],
      "source": "%python\ndifference_1 \u003d df_pct2[\u0027First_Dose\u0027].diff()\nprint(\"Difference between rows(Period\u003d1):\")\ndiff1\u003dpd.DataFrame(difference_1)\ndiff1.rename(columns\u003d{\u0027First_Dose\u0027:\u0027Daily_First_Dose\u0027},inplace\u003dTrue)\ndiff1.dropna(inplace\u003dTrue)\ndiff1\n\ndifference_2 \u003d df_pct2[\u0027Second_Dose\u0027].diff()\nprint(\"Difference between rows(Period\u003d1):\")\ndiff2\u003dpd.DataFrame(difference_2)\ndiff2.rename(columns\u003d{\u0027Second_Dose\u0027:\u0027Daily_Second_Dose\u0027},inplace\u003dTrue)\ndiff2.dropna(inplace\u003dTrue)\ndiff2\n\ndifference_3 \u003d df_pct2[\u0027deaths\u0027].diff(periods\u003d-1)\nprint(\"Difference between rows(Period\u003d-1):\")\ndiff3\u003dpd.DataFrame(difference_3)\ndiff3.rename(columns\u003d{\u0027deaths\u0027:\u0027Daily_death_count\u0027},inplace\u003dTrue)\ndiff3.dropna(inplace\u003dTrue)\ndiff3\n"
    },
    {
      "cell_type": "code",
      "execution_count": 51,
      "metadata": {
        "autoscroll": "auto"
      },
      "outputs": [],
      "source": "%python\ndaily_df2\u003dpd.concat([diff1,diff2,diff3],axis\u003d1)\n\ndaily_df2\u003dpd.concat([df_pct2.date,daily_df2], axis\u003d1)\n\ndaily_df2.dropna(inplace\u003dTrue)\ndaily_df2"
    },
    {
      "cell_type": "code",
      "execution_count": 52,
      "metadata": {
        "autoscroll": "auto"
      },
      "outputs": [],
      "source": "%python\n# fig14 \u003d px.line(daily_df2, x\u003d\"date\", y\u003d[\u0027Daily_First_Dose\u0027,\u0027Daily_Second_Dose\u0027,\u0027Daily_death_count\u0027], \n#                title\u003d\u0027Comparison among everyday vaccination count and deaths in Northen Ireland during 2021\u0027)\n# fig14.show()\nfig14 \u003d px.line(daily_df2, x\u003d\"date\", y\u003d[\u0027Daily_First_Dose\u0027,\u0027Daily_Second_Dose\u0027,\u0027Daily_death_count\u0027], \n               title\u003d\u0027Comparison between everyday vaccination and death count in Northen Ireland during 2021\u0027)\nfig14\u003dgo.Figure()\nfig14.add_trace(go.Scatter(x\u003ddaily_df2.date, y\u003ddaily_df2[\u0027Daily_First_Dose\u0027],\n                         mode\u003d\u0027lines\u0027,name\u003d\u0027First Jab Daily Count\u0027,\n                        line\u003ddict(color\u003d\u0027orchid\u0027,dash\u003d\u0027dot\u0027)))\nfig14.add_trace(go.Scatter(x\u003ddaily_df2.date, y\u003ddaily_df2[\u0027Daily_Second_Dose\u0027],\n                         mode\u003d\u0027lines\u0027,name\u003d\u0027Second Jab Daily Count\u0027,\n                         line\u003ddict(color\u003d\u0027olive\u0027,dash\u003d\u0027dot\u0027)))\nfig14.add_trace(go.Scatter(x\u003ddaily_df2.date, y\u003ddaily_df2[\u0027Daily_death_count\u0027],\n                         mode\u003d\u0027lines\u0027,name\u003d\u0027deaths\u0027,\n                         line\u003ddict(color\u003d\u0027mediumaquamarine\u0027,width\u003d3,dash\u003d\u0027solid\u0027)))\nfig14.update_layout(title\u003d\u0027Comparison between everyday vaccination and death count in Northen Ireland during 2021\u0027,\n                xaxis_title\u003d\u0027Dates\u0027,yaxis_title\u003d\u0027Everyday count of completed Doses and Deaths\u0027,\n                xaxis\u003ddict(\n                showline\u003dFalse, showgrid\u003dFalse, showticklabels\u003dTrue, \n                linecolor\u003d\u0027rgb(204,204,204)\u0027,linewidth \u003d2,\n                ticks\u003d\u0027outside\u0027, tickfont\u003ddict(family\u003d\u0027Arial\u0027,\n                size\u003d12, color\u003d\u0027rgb(82,82,82)\u0027),),\n                yaxis \u003d dict(\n                showline\u003dFalse, showgrid\u003dFalse, showticklabels\u003dTrue, \n                linecolor\u003d\u0027rgb(204,204,204)\u0027,linewidth \u003d2,\n                ticks\u003d\u0027outside\u0027, tickfont\u003ddict(family\u003d\u0027Arial\u0027,\n                size\u003d12, color\u003d\u0027rgb(82,82,82)\u0027),),)\nLst_fig_eng.append(fig14)\n# fig14.show()\n"
    },
    {
      "cell_type": "code",
      "execution_count": 53,
      "metadata": {
        "autoscroll": "auto"
      },
      "outputs": [],
      "source": "%python\ndaily_df2\nf_d\u003ddaily_df2[[\u0027Daily_First_Dose\u0027,\u0027Daily_Second_Dose\u0027,\u0027Daily_death_count\u0027]]\nf_d.astype(int)\n"
    },
    {
      "cell_type": "code",
      "execution_count": 54,
      "metadata": {
        "autoscroll": "auto"
      },
      "outputs": [],
      "source": "%python\ncols \u003d f_d.columns\ncols\ndf \u003d pd.DataFrame(f_d)\ndf"
    },
    {
      "cell_type": "code",
      "execution_count": 55,
      "metadata": {
        "autoscroll": "auto"
      },
      "outputs": [],
      "source": "%python\nmin_max_scaler \u003d preprocessing.MinMaxScaler()\nnp_scaled \u003d min_max_scaler.fit_transform(df)\ndf_normalized2 \u003d pd.DataFrame(np_scaled, columns \u003d cols)\ndf_normalized2"
    },
    {
      "cell_type": "code",
      "execution_count": 56,
      "metadata": {
        "autoscroll": "auto"
      },
      "outputs": [],
      "source": "%python\ndf_normalized_all2\u003dpd.concat([daily_df2.date,df_normalized2], axis\u003d1)\ndf_normalized_all2\u003ddf_normalized_all2.dropna()"
    },
    {
      "cell_type": "code",
      "execution_count": 57,
      "metadata": {
        "autoscroll": "auto"
      },
      "outputs": [],
      "source": "%python\n# fig15 \u003d px.line(daily_df2, x\u003ddaily_df2.date, y\u003ddaily_df2.Daily_death_count, \n#                title\u003d\u0027Everyday deaths in Northen Ireland during 2021\u0027)\n# fig15.show()\n\nfig15 \u003d px.line(daily_df2, x\u003ddaily_df2.date, y\u003ddaily_df2.Daily_death_count)\nfig15.add_trace(go.Scatter(x\u003ddaily_df2.date, y\u003ddaily_df2[\u0027Daily_death_count\u0027],\n                         mode\u003d\u0027lines+markers\u0027,name\u003d\u0027Daily Deaths\u0027,\n                         line\u003ddict(color\u003d\u0027firebrick\u0027,width\u003d4,dash\u003d\u0027longdash\u0027)))\nfig15.update_layout(title\u003d\u0027Everyday deaths in Northen Ireland during 2021\u0027,\n                xaxis_title\u003d\u0027Dates\u0027,yaxis_title\u003d\u0027Number of deaths\u0027,\n                xaxis\u003ddict(\n                showline\u003dFalse, showgrid\u003dFalse, showticklabels\u003dTrue, \n                linecolor\u003d\u0027rgb(204,204,204)\u0027,linewidth \u003d2,\n                ticks\u003d\u0027outside\u0027, tickfont\u003ddict(family\u003d\u0027Arial\u0027,\n                size\u003d12, color\u003d\u0027rgb(82,82,82)\u0027),),\n                yaxis \u003d dict(\n                showline\u003dFalse, showgrid\u003dFalse, showticklabels\u003dTrue, \n                linecolor\u003d\u0027rgb(204,204,204)\u0027,linewidth \u003d2,\n                ticks\u003d\u0027outside\u0027, tickfont\u003ddict(family\u003d\u0027Arial\u0027,\n                size\u003d12, color\u003d\u0027rgb(82,82,82)\u0027),),)\nLst_fig_eng.append(fig15)\n# fig15.show()"
    },
    {
      "cell_type": "code",
      "execution_count": 58,
      "metadata": {
        "autoscroll": "auto"
      },
      "outputs": [],
      "source": "%python\n# fig16 \u003d px.line(df_normalized_all2, x\u003d\u0027date\u0027, y\u003d[\u0027Daily_First_Dose\u0027,\u0027Daily_Second_Dose\u0027,\u0027Daily_death_count\u0027], \n#                title\u003d\u0027Everyday vaccination rate and impact on death rate in Northen Ireland during 2021\u0027)\n# fig16.show()\nfig16 \u003d px.line(df_normalized_all1, x\u003d\u0027date\u0027, y\u003d[\u0027Daily_First_Dose\u0027,\u0027Daily_Second_Dose\u0027,\u0027Daily_death_count\u0027])\nfig16\u003dgo.Figure()\nfig16.add_trace(go.Scatter(x\u003ddf_normalized_all2.date, y\u003ddf_normalized_all2[\u0027Daily_First_Dose\u0027],\n                         mode\u003d\u0027lines\u0027,name\u003d\u0027First Jab Completion\u0027,\n                         line\u003ddict(color\u003d\u0027rebeccapurple\u0027,dash\u003d\u0027dash\u0027)))\nfig16.add_trace(go.Scatter(x\u003ddf_normalized_all2.date, y\u003ddf_normalized_all2[\u0027Daily_Second_Dose\u0027],\n                         mode\u003d\u0027lines\u0027,name\u003d\u0027Second Jab Completion\u0027,\n                         line\u003ddict(color\u003d\u0027lime\u0027,dash\u003d\u0027dot\u0027)))\nfig16.add_trace(go.Scatter(x\u003ddf_normalized_all2.date, y\u003ddf_normalized_all2[\u0027Daily_death_count\u0027],\n                         mode\u003d\u0027lines\u0027,name\u003d\u0027deaths\u0027,\n                         line\u003ddict(color\u003d\u0027firebrick\u0027,width\u003d3,dash\u003d\u0027solid\u0027)))\nfig16.update_layout(title\u003d\u0027Everyday vaccination rate and its impact on death rate in Northen Ireland during 2021\u0027,\n                xaxis_title\u003d\u0027Dates\u0027,yaxis_title\u003d\u0027Normalised Counts\u0027,\n                xaxis\u003ddict(\n                showline\u003dFalse, showgrid\u003dFalse, showticklabels\u003dTrue, \n                linecolor\u003d\u0027rgb(204,204,204)\u0027,linewidth \u003d2,\n                ticks\u003d\u0027outside\u0027, tickfont\u003ddict(family\u003d\u0027Arial\u0027,\n                size\u003d12, color\u003d\u0027rgb(82,82,82)\u0027),),\n                yaxis \u003d dict(\n                showline\u003dFalse, showgrid\u003dFalse, showticklabels\u003dTrue, \n                linecolor\u003d\u0027rgb(204,204,204)\u0027,linewidth \u003d2,\n                ticks\u003d\u0027outside\u0027, tickfont\u003ddict(family\u003d\u0027Arial\u0027,\n                size\u003d12, color\u003d\u0027rgb(82,82,82)\u0027),),)\nLst_fig_eng.append(fig16)\n# fig16.show()\n\n"
    },
    {
      "cell_type": "code",
      "execution_count": 59,
      "metadata": {
        "autoscroll": "auto"
      },
      "outputs": [],
      "source": "%python\n# df_normalized_all2"
    },
    {
      "cell_type": "code",
      "execution_count": 60,
      "metadata": {
        "autoscroll": "auto"
      },
      "outputs": [],
      "source": "%python\n# x0\u003ddf_normalized_all2[\u0027Daily_First_Dose\u0027]\n# x1\u003ddf_normalized_all2[\u0027Daily_Second_Dose\u0027]\n# x2\u003ddf_normalized_all2[\u0027Daily_death_count\u0027]\n# fig_hist2 \u003d go.Figure()\n# fig_hist2.add_trace(go.Histogram(x\u003dx0))\n# fig_hist2.add_trace(go.Histogram(x\u003dx1))\n# fig_hist2.add_trace(go.Histogram(x\u003dx2))\n\n# # Overlay both histograms\n# fig_hist2.update_layout(barmode\u003d\u0027overlay\u0027)\n# # Reduce opacity to see both histograms\n# fig_hist2.update_traces(opacity\u003d0.80)\n\n# fig_hist2.show()\n\n\n\nx0\u003ddf_normalized_all2[\u0027Daily_First_Dose\u0027]\nx1\u003ddf_normalized_all2[\u0027Daily_Second_Dose\u0027]\nx2\u003ddf_normalized_all2[\u0027Daily_death_count\u0027]\ny\u003ddf_normalized_all2[\u0027date\u0027]\nfig_hist2 \u003dpx.histogram(df_normalized_all2,x\u003d\u0027Daily_death_count\u0027,\n                        nbins\u003d15, marginal\u003d\u0027violin\u0027)\n# fig_hist2 \u003d go.Figure()\nfig_hist2.add_trace(go.Histogram(x\u003dx0,name\u003d\u0027First_dose\u0027))\nfig_hist2.add_trace(go.Histogram(x\u003dx1,name\u003d\u0027Second_dose\u0027))\n# fig_hist2.add_trace(go.Histogram(x\u003dx2))\n\n# # Reduce opacity to see both histograms\nfig_hist2.update_traces(opacity\u003d0.80)\n\n# # Overlay all histograms\nfig_hist2.update_layout(barmode\u003d\u0027overlay\u0027,\n                   title\u003d\u0027Vaccination VS Death rate in England in 2021\u0027,\n                xaxis_title\u003d\u0027Normalised scale\u0027,yaxis_title\u003d\u0027Normalised Counts\u0027,\n                xaxis\u003ddict(\n                showline\u003dFalse, showgrid\u003dFalse, showticklabels\u003dTrue, \n                linecolor\u003d\u0027rgb(204,204,204)\u0027,linewidth \u003d2,\n                ticks\u003d\u0027outside\u0027, tickfont\u003ddict(family\u003d\u0027Arial\u0027,\n                size\u003d12, color\u003d\u0027rgb(82,82,82)\u0027),),\n                yaxis \u003d dict(\n                showline\u003dFalse, showgrid\u003dFalse, showticklabels\u003dTrue, \n                linecolor\u003d\u0027rgb(204,204,204)\u0027,linewidth \u003d2,\n                ticks\u003d\u0027outside\u0027, tickfont\u003ddict(family\u003d\u0027Arial\u0027,\n                size\u003d12, color\u003d\u0027rgb(82,82,82)\u0027),),)\nLst_fig_eng.append(fig_hist2)\n# fig_hist2.show()\n"
    },
    {
      "cell_type": "code",
      "execution_count": 61,
      "metadata": {
        "autoscroll": "auto"
      },
      "outputs": [],
      "source": "%python\n# # app \u003d dash.Dash()\n# # app.layout \u003d html.Div(className\u003d\u0027row\u0027, children\u003d[\n# #     html.H1(\"NHS COVID Data analysis\"),\n# #     dcc.Dropdown(),\n# #     html.Div(children\u003d[\n# #         dcc.Graph(id\u003d\"Graph1\",figure\u003dfig, style\u003d{\u0027display\u0027: \u0027inline-block\u0027}),\n# #         dcc.Graph(id\u003d\"Graph2\",figure\u003dfig, style\u003d{\u0027display\u0027: \u0027inline-block\u0027})\n# #     ])\n# # ])\n# # app.run_server(debug\u003dTrue, use_reloader\u003dFalse)  \n\n# app \u003d dash.Dash()\n# app.layout \u003d html.Div(className\u003d\u0027row\u0027, children\u003d[\n#     html.H1(\"NHS COVID Data analysis for NORTHEN IRELAND\"),\n#     dcc.Dropdown(),\n#     html.Div(children\u003d[\n#         dcc.Graph(id\u003d\"Graph1\",figure\u003dfig9, style\u003d{\u0027display\u0027: \u0027inline-block\u0027}),\n#         dcc.Graph(id\u003d\"Graph2\",figure\u003dfig10, style\u003d{\u0027display\u0027: \u0027inline-block\u0027}),\n#         dcc.Graph(id\u003d\"Graph3\",figure\u003dfig11, style\u003d{\u0027display\u0027: \u0027inline-block\u0027}),\n#         dcc.Graph(id\u003d\"Graph4\",figure\u003dfig12, style\u003d{\u0027display\u0027: \u0027inline-block\u0027}),\n#         dcc.Graph(id\u003d\"Graph5\",figure\u003dfig13, style\u003d{\u0027display\u0027: \u0027inline-block\u0027}),\n#         dcc.Graph(id\u003d\"Graph6\",figure\u003dfig14, style\u003d{\u0027display\u0027: \u0027inline-block\u0027}),\n#         dcc.Graph(id\u003d\"Graph7\",figure\u003dfig15, style\u003d{\u0027display\u0027: \u0027inline-block\u0027}),\n#         dcc.Graph(id\u003d\"Graph8\",figure\u003dfig16, style\u003d{\u0027display\u0027: \u0027inline-block\u0027}),\n#         dcc.Graph(id\u003d\"Graph9\",figure\u003dfig_hist2, style\u003d{\u0027display\u0027: \u0027inline-block\u0027})        \n#     ])\n# ])\n# app.run_server(debug\u003dTrue, use_reloader\u003dFalse)  # Turn off reloader if inside Jupyter\n\n"
    },
    {
      "cell_type": "markdown",
      "metadata": {},
      "source": "### Scotland "
    },
    {
      "cell_type": "code",
      "execution_count": 63,
      "metadata": {
        "autoscroll": "auto"
      },
      "outputs": [],
      "source": "%python\nfile_names\u003d[\"N_SCT.csv\",\u0027N_SCT_DEATH\u0027]\nfor d in datalist:\n    for file_name in file_names:\n        if file_name in d:\n            data3\u003dpd.read_csv(\u0027N_SCT.csv\u0027)\n            data_d3\u003dpd.read_csv(\u0027N_SCT_DEATH.csv\u0027)\nprint(\"files found and data appended to dataframes...\")"
    },
    {
      "cell_type": "code",
      "execution_count": 64,
      "metadata": {
        "autoscroll": "auto"
      },
      "outputs": [],
      "source": "%python\ndata3\ndummy_data_3\u003ddata3[\u0027areaName\u0027]\ndummy_data_3"
    },
    {
      "cell_type": "code",
      "execution_count": 65,
      "metadata": {
        "autoscroll": "auto"
      },
      "outputs": [],
      "source": "%python\ndata3"
    },
    {
      "cell_type": "code",
      "execution_count": 66,
      "metadata": {
        "autoscroll": "auto"
      },
      "outputs": [],
      "source": "%python\ndata3.drop(columns\u003d[\u0027areaCode\u0027,\u0027areaType\u0027,\u0027areaName\u0027],axis\u003d1, inplace\u003dTrue)\ndata3.rename(columns\u003d{\"cumPeopleVaccinatedFirstDoseByPublishDate\":\"First_Dose\",\n                      \"cumPeopleVaccinatedSecondDoseByPublishDate\":\"Second_Dose\"},inplace\u003dTrue)\n# data3[\u0027date\u0027].sort_index(ascending\u003dFalse)\ndata3"
    },
    {
      "cell_type": "code",
      "execution_count": 67,
      "metadata": {
        "autoscroll": "auto"
      },
      "outputs": [],
      "source": "%python\ndata_d3.rename(columns\u003d{\u0027cumDailyNsoDeathsByDeathDate\u0027:\u0027deaths\u0027},inplace\u003dTrue)\ndata_d3\u003dpd.DataFrame(data_d3[\u0027deaths\u0027])\ndata_d3"
    },
    {
      "cell_type": "code",
      "execution_count": 68,
      "metadata": {
        "autoscroll": "auto"
      },
      "outputs": [],
      "source": "%python\ndata_all_3\u003dpd.concat([data3,data_d3],axis\u003d1)\ndata_all_3"
    },
    {
      "cell_type": "code",
      "execution_count": 69,
      "metadata": {
        "autoscroll": "auto"
      },
      "outputs": [],
      "source": "%python\npct_first\u003dpd.DataFrame(data_all_3[\u0027First_Dose\u0027].pct_change())\npct_second\u003dpd.DataFrame(data_all_3[\u0027Second_Dose\u0027].pct_change())\npct_deaths\u003dpd.DataFrame(data_all_3[\u0027deaths\u0027].pct_change())\ndf_pct3\u003dpd.concat([data_all_3,pct_first,\n                  pct_second,pct_deaths],axis\u003d1)"
    },
    {
      "cell_type": "code",
      "execution_count": 70,
      "metadata": {
        "autoscroll": "auto"
      },
      "outputs": [],
      "source": "%python\ndf_pct3.tail()\ndf_pct3.dropna(inplace\u003dTrue)\ndf_pct3"
    },
    {
      "cell_type": "code",
      "execution_count": 71,
      "metadata": {
        "autoscroll": "auto"
      },
      "outputs": [],
      "source": "%python\n# cols\u003dpd.Series(df.columns)\ndf_uniq\u003dpd.Series(df_pct3.columns)\nfor dup in df_pct3.columns[df_pct3.columns.duplicated(keep\u003dFalse)]: \n    df_uniq[df_pct3.columns.get_loc(dup)] \u003d ([dup + \u0027.\u0027 + str(d_idx) \n                                     if d_idx !\u003d 0 \n                                     else dup \n                                     for d_idx in range(df_pct3.columns.get_loc(dup).sum())])\ndf_pct3.columns\u003ddf_uniq\ndf_pct3\u003dpd.concat([df_pct3,dummy_data_3],axis\u003d1)\ndf_pct3.dropna(inplace\u003dTrue)\ndf_pct3"
    },
    {
      "cell_type": "code",
      "execution_count": 72,
      "metadata": {
        "autoscroll": "auto"
      },
      "outputs": [],
      "source": "%python\ndf_pct3"
    },
    {
      "cell_type": "code",
      "execution_count": 73,
      "metadata": {
        "autoscroll": "auto"
      },
      "outputs": [],
      "source": "%python\n# fig17 \u003d px.line(df_pct3, x\u003ddf_pct3.date, y\u003d[\u0027First_Dose\u0027],title\u003d\u0027First Dosage Vaccination Count in Scotland during 2021\u0027)\n# fig17.show()\n\nfig17 \u003d px.line(df_pct3, x\u003ddf_pct3.date, y\u003d[\u0027First_Dose\u0027],\n               hover_name \u003ddf_pct3.areaName)\nfig17.update_layout(title\u003d\u0027First Dosage Vaccination Count in Scotland during 2021\u0027,\n                xaxis_title\u003d\u0027Dates\u0027,yaxis_title\u003d\u0027Count of First Dose\u0027)\nLst_fig_eng.append(fig17)\n# fig17.show()"
    },
    {
      "cell_type": "code",
      "execution_count": 74,
      "metadata": {
        "autoscroll": "auto"
      },
      "outputs": [],
      "source": "%python\n# fig18 \u003d px.line(df_pct3, x\u003ddf_pct3.date, y\u003d[\u0027Second_Dose\u0027],title\u003d\u0027Second Dosage Vaccination Count in Scotland during 2021\u0027)\n# fig18.show()\nfig18 \u003d px.line(df_pct3, x\u003ddf_pct3.date, y\u003d[\u0027Second_Dose\u0027],\n               hover_name \u003ddf_pct3.areaName)\nfig18\u003dgo.Figure()\nfig18.add_trace(go.Scatter(x\u003ddf_pct3.date, y\u003ddf_pct3.Second_Dose,\n                         mode\u003d\u0027lines\u0027,name\u003d\u0027Second Jab Completion\u0027,\n                         line\u003ddict(color\u003d\u0027seagreen\u0027, dash\u003d\u0027dash\u0027)))\nfig18.update_layout(title\u003d\u0027Second Dosage Vaccination Count in Scotland during 2021\u0027,\n                xaxis_title\u003d\u0027Dates\u0027,yaxis_title\u003d\u0027Count of Second Dose\u0027)\nLst_fig_eng.append(fig18)\n# fig18.show()"
    },
    {
      "cell_type": "code",
      "execution_count": 75,
      "metadata": {
        "autoscroll": "auto"
      },
      "outputs": [],
      "source": "%python\n# fig19 \u003d px.line(df_pct3, x\u003ddf_pct3.date, y\u003d[\u0027deaths\u0027],title\u003d\u0027Death Count in Scotland during 2021\u0027)\n# fig19.show()\n\nfig19 \u003d px.line(df_pct3, x\u003ddf_pct3.date, y\u003d[\u0027deaths\u0027],\n              hover_name \u003ddf_pct3.areaName)\nfig19\u003dgo.Figure()\nfig19.add_trace(go.Scatter(x\u003ddf_pct3.date, y\u003ddf_pct3.deaths,\n                         mode\u003d\u0027lines\u0027,name\u003d\u0027Deaths\u0027,\n                         line\u003ddict(color\u003d\u0027firebrick\u0027, dash\u003d\u0027dot\u0027)))\nfig19.update_layout(title\u003d\u0027Death Count in Scotland during 2021\u0027,\n                xaxis_title\u003d\u0027Dates\u0027,yaxis_title\u003d\u0027Count of Deaths\u0027)\nLst_fig_eng.append(fig19)\n# fig19.show()\n"
    },
    {
      "cell_type": "code",
      "execution_count": 76,
      "metadata": {
        "autoscroll": "auto"
      },
      "outputs": [],
      "source": "%python\n# fig20 \u003d px.line(df_pct3, x\u003d\"date\", y\u003d[\u0027First_Dose\u0027,\u0027Second_Dose\u0027,\u0027deaths\u0027],\n#                labels\u003d{\u0027x\u0027:\u0027Dates\u0027,\u0027y\u0027:\u0027Count of completed Doses\u0027},\n#                title\u003d\u0027Vaccination VS Deaths Count in Scotland in 2021\u0027)\n# fig20.update_traces(textposition\u003d\"bottom right\")\n# fig20.show()\n\n\nfig20 \u003d px.line(df_pct3, x\u003d\"date\", y\u003d[\u0027First_Dose\u0027,\u0027Second_Dose\u0027,\u0027deaths\u0027])\nfig20\u003dgo.Figure()\nfig20.add_trace(go.Scatter(x\u003ddf_pct3.date, y\u003ddf_pct3.First_Dose,\n                         mode\u003d\u0027lines\u0027,name\u003d\u0027First Jab Completion\u0027,\n                         line\u003ddict(dash\u003d\u0027dash\u0027)))\nfig20.add_trace(go.Scatter(x\u003ddf_pct3.date, y\u003ddf_pct3.Second_Dose,\n                         mode\u003d\u0027lines\u0027,name\u003d\u0027Second Jab Completion\u0027,\n                         line\u003ddict(color\u003d\u0027seagreen\u0027,dash\u003d\u0027dot\u0027)))\nfig20.add_trace(go.Scatter(x\u003ddf_pct3.date, y\u003ddf_pct3.deaths,\n                         mode\u003d\u0027lines\u0027,name\u003d\u0027deaths\u0027,\n                         line\u003ddict(color\u003d\u0027firebrick\u0027,width\u003d3,\n                                  dash\u003d\u0027solid\u0027)))\nfig20.update_layout(title\u003d\u0027Vaccination VS Death Count in Scotland in 2021\u0027,\n                xaxis_title\u003d\u0027Dates\u0027,yaxis_title\u003d\u0027Count of completed Doses and Deaths\u0027,\n                xaxis\u003ddict(\n                showline\u003dFalse, showgrid\u003dFalse, showticklabels\u003dTrue, \n                linecolor\u003d\u0027rgb(204,204,204)\u0027,linewidth \u003d2,\n                ticks\u003d\u0027outside\u0027, tickfont\u003ddict(family\u003d\u0027Arial\u0027,\n                size\u003d12, color\u003d\u0027rgb(82,82,82)\u0027),),\n                yaxis \u003d dict(\n                showline\u003dFalse, showgrid\u003dFalse, showticklabels\u003dTrue, \n                linecolor\u003d\u0027rgb(204,204,204)\u0027,linewidth \u003d2,\n                ticks\u003d\u0027outside\u0027, tickfont\u003ddict(family\u003d\u0027Arial\u0027,\n                size\u003d12, color\u003d\u0027rgb(82,82,82)\u0027),),)\nLst_fig_eng.append(fig20)\n# fig20.show()\n"
    },
    {
      "cell_type": "code",
      "execution_count": 77,
      "metadata": {
        "autoscroll": "auto"
      },
      "outputs": [],
      "source": "%python\n# fig21 \u003d px.line(df_pct3, x\u003d\"date\", y\u003d[\u0027First_Dose.1\u0027,\u0027Second_Dose.1\u0027,\u0027deaths.1\u0027],\n#                labels\u003d{\u0027x\u0027:\u0027Dates\u0027,\u0027y\u0027:\u0027Count of completed Doses\u0027},\n#                title\u003d\u0027Vaccination VS Deaths Percentile  in Scotland in 2021\u0027)\n# fig21.show()\n\nfig21 \u003d px.line(df_pct3, x\u003d\"date\", y\u003d[\u0027First_Dose.1\u0027,\u0027Second_Dose.1\u0027,\u0027deaths.1\u0027])\nfig21\u003dgo.Figure()\n\nfig21.add_trace(go.Scatter(x\u003ddf_pct3.date, y\u003ddf_pct3[\u0027First_Dose.1\u0027],\n                         mode\u003d\u0027lines\u0027,name\u003d\u0027First Jab Completion\u0027,\n                         line\u003ddict(dash\u003d\u0027dash\u0027)))\nfig21.add_trace(go.Scatter(x\u003ddf_pct3.date, y\u003ddf_pct3[\u0027Second_Dose.1\u0027],\n                         mode\u003d\u0027lines\u0027,name\u003d\u0027Second Jab Completion\u0027,\n                         line\u003ddict(color\u003d\u0027seagreen\u0027,dash\u003d\u0027dot\u0027)))\nfig21.add_trace(go.Scatter(x\u003ddf_pct3.date, y\u003ddf_pct3[\u0027deaths.1\u0027],\n                         mode\u003d\u0027lines\u0027,name\u003d\u0027deaths\u0027,\n                         line\u003ddict(color\u003d\u0027firebrick\u0027,width\u003d3,dash\u003d\u0027solid\u0027)))\nfig21.update_layout(title\u003d\u0027Vaccination VS Death Percentile in Scotland in 2021\u0027,\n                xaxis_title\u003d\u0027Dates\u0027,yaxis_title\u003d\u0027Percentile of completed Doses and Deaths\u0027,\n                xaxis\u003ddict(\n                showline\u003dFalse, showgrid\u003dFalse, showticklabels\u003dTrue, \n                linecolor\u003d\u0027rgb(204,204,204)\u0027,linewidth \u003d2,\n                ticks\u003d\u0027outside\u0027, tickfont\u003ddict(family\u003d\u0027Arial\u0027,\n                size\u003d12, color\u003d\u0027rgb(82,82,82)\u0027),),\n                yaxis \u003d dict(\n                showline\u003dFalse, showgrid\u003dFalse, showticklabels\u003dTrue, \n                linecolor\u003d\u0027rgb(204,204,204)\u0027,linewidth \u003d2,\n                ticks\u003d\u0027outside\u0027, tickfont\u003ddict(family\u003d\u0027Arial\u0027,\n                size\u003d12, color\u003d\u0027rgb(82,82,82)\u0027),),)\nLst_fig_eng.append(fig21)\n# fig21.show()\n\n"
    },
    {
      "cell_type": "code",
      "execution_count": 78,
      "metadata": {
        "autoscroll": "auto"
      },
      "outputs": [],
      "source": "%python\ndifference_1 \u003d df_pct3[\u0027First_Dose\u0027].diff();\nprint(\"Difference between rows(Period\u003d1):\");\ndiff1\u003dpd.DataFrame(difference_1)\ndiff1.rename(columns\u003d{\u0027First_Dose\u0027:\u0027Daily_First_Dose\u0027},inplace\u003dTrue)\ndiff1.dropna(inplace\u003dTrue)\ndiff1"
    },
    {
      "cell_type": "code",
      "execution_count": 79,
      "metadata": {
        "autoscroll": "auto"
      },
      "outputs": [],
      "source": "%python\ndifference_2 \u003d df_pct3[\u0027Second_Dose\u0027].diff();\nprint(\"Difference between rows(Period\u003d1):\");\ndiff2\u003dpd.DataFrame(difference_2)\ndiff2.rename(columns\u003d{\u0027Second_Dose\u0027:\u0027Daily_Second_Dose\u0027},inplace\u003dTrue)\ndiff2.dropna(inplace\u003dTrue)\ndiff2"
    },
    {
      "cell_type": "code",
      "execution_count": 80,
      "metadata": {
        "autoscroll": "auto"
      },
      "outputs": [],
      "source": "%python\ndifference_3 \u003d df_pct3[\u0027deaths\u0027].diff();\nprint(\"Difference between rows(Period\u003d1):\");\ndiff3\u003dpd.DataFrame(difference_3)\ndiff3.rename(columns\u003d{\u0027deaths\u0027:\u0027Daily_death_count\u0027},inplace\u003dTrue)\ndiff3.dropna(inplace\u003dTrue)\ndiff3"
    },
    {
      "cell_type": "code",
      "execution_count": 81,
      "metadata": {
        "autoscroll": "auto"
      },
      "outputs": [],
      "source": "%python\ndaily_df3\u003dpd.concat([diff1,diff2,diff3],axis\u003d1)"
    },
    {
      "cell_type": "code",
      "execution_count": 82,
      "metadata": {
        "autoscroll": "auto"
      },
      "outputs": [],
      "source": "%python\ndaily_df3\u003dpd.concat([df_pct3.date,daily_df3], axis\u003d1)"
    },
    {
      "cell_type": "code",
      "execution_count": 83,
      "metadata": {
        "autoscroll": "auto"
      },
      "outputs": [],
      "source": "%python\ndaily_df3.dropna(inplace\u003dTrue)\ndaily_df3"
    },
    {
      "cell_type": "code",
      "execution_count": 84,
      "metadata": {
        "autoscroll": "auto"
      },
      "outputs": [],
      "source": "%python\n# fig22 \u003d px.line(daily_df3, x\u003d\"date\", y\u003d[\u0027Daily_First_Dose\u0027,\u0027Daily_Second_Dose\u0027,\u0027Daily_death_count\u0027], \n#                title\u003d\u0027Comparison among everyday vaccination count and deaths in Scotland during 2021\u0027)\n# fig22.show()\n\nfig22 \u003d px.line(daily_df3, x\u003d\"date\", y\u003d[\u0027Daily_First_Dose\u0027,\u0027Daily_Second_Dose\u0027,\u0027Daily_death_count\u0027], \n               title\u003d\u0027Comparison between everyday vaccination and death count in England during 2021\u0027)\nfig22\u003dgo.Figure()\nfig22.add_trace(go.Scatter(x\u003ddaily_df3.date, y\u003ddaily_df3[\u0027Daily_First_Dose\u0027],\n                         mode\u003d\u0027lines\u0027,name\u003d\u0027First Jab Daily Count\u0027,\n                        line\u003ddict(color\u003d\u0027orchid\u0027,dash\u003d\u0027dot\u0027)))\nfig22.add_trace(go.Scatter(x\u003ddaily_df3.date, y\u003ddaily_df3[\u0027Daily_Second_Dose\u0027],\n                         mode\u003d\u0027lines\u0027,name\u003d\u0027Second Jab Daily Count\u0027,\n                         line\u003ddict(color\u003d\u0027olive\u0027,dash\u003d\u0027dot\u0027)))\nfig22.add_trace(go.Scatter(x\u003ddaily_df3.date, y\u003ddaily_df3[\u0027Daily_death_count\u0027],\n                         mode\u003d\u0027lines\u0027,name\u003d\u0027deaths\u0027,\n                         line\u003ddict(color\u003d\u0027mediumaquamarine\u0027,width\u003d3,dash\u003d\u0027solid\u0027)))\nfig22.update_layout(title\u003d\u0027Comparison between everyday vaccination and death count in Scotland during 2021\u0027,\n                xaxis_title\u003d\u0027Dates\u0027,yaxis_title\u003d\u0027Everyday count of completed Doses and Deaths\u0027,\n                xaxis\u003ddict(\n                showline\u003dFalse, showgrid\u003dFalse, showticklabels\u003dTrue, \n                linecolor\u003d\u0027rgb(204,204,204)\u0027,linewidth \u003d2,\n                ticks\u003d\u0027outside\u0027, tickfont\u003ddict(family\u003d\u0027Arial\u0027,\n                size\u003d12, color\u003d\u0027rgb(82,82,82)\u0027),),\n                yaxis \u003d dict(\n                showline\u003dFalse, showgrid\u003dFalse, showticklabels\u003dTrue, \n                linecolor\u003d\u0027rgb(204,204,204)\u0027,linewidth \u003d2,\n                ticks\u003d\u0027outside\u0027, tickfont\u003ddict(family\u003d\u0027Arial\u0027,\n                size\u003d12, color\u003d\u0027rgb(82,82,82)\u0027),),)\nLst_fig_eng.append(fig22)\n# fig22.show()"
    },
    {
      "cell_type": "code",
      "execution_count": 85,
      "metadata": {
        "autoscroll": "auto"
      },
      "outputs": [],
      "source": "%python\ndaily_df3\nf_d\u003ddaily_df3[[\u0027Daily_First_Dose\u0027,\u0027Daily_Second_Dose\u0027,\u0027Daily_death_count\u0027]]\nf_d.astype(int)"
    },
    {
      "cell_type": "code",
      "execution_count": 86,
      "metadata": {
        "autoscroll": "auto"
      },
      "outputs": [],
      "source": "%python\ncols \u003d f_d.columns\ncols\ndf \u003d pd.DataFrame(f_d)\ndf"
    },
    {
      "cell_type": "code",
      "execution_count": 87,
      "metadata": {
        "autoscroll": "auto"
      },
      "outputs": [],
      "source": "%python\nmin_max_scaler \u003d preprocessing.MinMaxScaler()\nnp_scaled \u003d min_max_scaler.fit_transform(df)\ndf_normalized3 \u003d pd.DataFrame(np_scaled, columns \u003d cols)\ndf_normalized3"
    },
    {
      "cell_type": "code",
      "execution_count": 88,
      "metadata": {
        "autoscroll": "auto"
      },
      "outputs": [],
      "source": "%python\ndf_normalized_all3\u003dpd.concat([daily_df3.date,df_normalized3], axis\u003d1)\ndf_normalized_all3\u003ddf_normalized_all3.dropna()"
    },
    {
      "cell_type": "code",
      "execution_count": 89,
      "metadata": {
        "autoscroll": "auto"
      },
      "outputs": [],
      "source": "%python\n# fig23 \u003d px.line(daily_df3, x\u003ddaily_df3.date, y\u003ddaily_df3.Daily_death_count, \n#                title\u003d\u0027Everyday deaths in Scotland during 2021\u0027)\n# fig23.show()\n\nfig23 \u003d px.line(daily_df3, x\u003ddaily_df3.date, y\u003ddaily_df3.Daily_death_count)\nfig23.add_trace(go.Scatter(x\u003ddaily_df3.date, y\u003ddaily_df3[\u0027Daily_death_count\u0027],\n                         mode\u003d\u0027lines+markers\u0027,name\u003d\u0027Daily Deaths\u0027,\n                         line\u003ddict(color\u003d\u0027firebrick\u0027,width\u003d4,dash\u003d\u0027longdash\u0027)))\nfig23.update_layout(title\u003d\u0027Everyday deaths in Scotland during 2021\u0027,\n                xaxis_title\u003d\u0027Dates\u0027,yaxis_title\u003d\u0027Number of deaths\u0027,\n                xaxis\u003ddict(\n                showline\u003dFalse, showgrid\u003dFalse, showticklabels\u003dTrue, \n                linecolor\u003d\u0027rgb(204,204,204)\u0027,linewidth \u003d2,\n                ticks\u003d\u0027outside\u0027, tickfont\u003ddict(family\u003d\u0027Arial\u0027,\n                size\u003d12, color\u003d\u0027rgb(82,82,82)\u0027),),\n                yaxis \u003d dict(\n                showline\u003dFalse, showgrid\u003dFalse, showticklabels\u003dTrue, \n                linecolor\u003d\u0027rgb(204,204,204)\u0027,linewidth \u003d2,\n                ticks\u003d\u0027outside\u0027, tickfont\u003ddict(family\u003d\u0027Arial\u0027,\n                size\u003d12, color\u003d\u0027rgb(82,82,82)\u0027),),)\nLst_fig_eng.append(fig23)\n# fig23.show()"
    },
    {
      "cell_type": "code",
      "execution_count": 90,
      "metadata": {
        "autoscroll": "auto"
      },
      "outputs": [],
      "source": "%python\n# fig24 \u003d px.line(df_normalized_all3, x\u003d\u0027date\u0027, y\u003d[\u0027Daily_First_Dose\u0027,\u0027Daily_Second_Dose\u0027,\u0027Daily_death_count\u0027], \n#                title\u003d\u0027Everyday vaccination rate and impact on death rate in Scotland during 2021\u0027)\n# fig24.show()\n\n\nfig24 \u003d px.line(df_normalized_all3, x\u003d\u0027date\u0027, y\u003d[\u0027Daily_First_Dose\u0027,\u0027Daily_Second_Dose\u0027,\u0027Daily_death_count\u0027])\nfig24\u003dgo.Figure()\nfig24.add_trace(go.Scatter(x\u003ddf_normalized_all3.date, y\u003ddf_normalized_all3[\u0027Daily_First_Dose\u0027],\n                         mode\u003d\u0027lines\u0027,name\u003d\u0027First Jab Completion\u0027,\n                         line\u003ddict(color\u003d\u0027rebeccapurple\u0027,dash\u003d\u0027dash\u0027)))\nfig24.add_trace(go.Scatter(x\u003ddf_normalized_all3.date, y\u003ddf_normalized_all3[\u0027Daily_Second_Dose\u0027],\n                         mode\u003d\u0027lines\u0027,name\u003d\u0027Second Jab Completion\u0027,\n                         line\u003ddict(color\u003d\u0027lime\u0027,dash\u003d\u0027dot\u0027)))\nfig24.add_trace(go.Scatter(x\u003ddf_normalized_all3.date, y\u003ddf_normalized_all3[\u0027Daily_death_count\u0027],\n                         mode\u003d\u0027lines\u0027,name\u003d\u0027deaths\u0027,\n                         line\u003ddict(color\u003d\u0027firebrick\u0027,width\u003d3,dash\u003d\u0027solid\u0027)))\nfig24.update_layout(title\u003d\u0027Everyday vaccination rate and its impact on death rate in Scotland during 2021\u0027,\n                xaxis_title\u003d\u0027Dates\u0027,yaxis_title\u003d\u0027Normalised Counts\u0027,\n                xaxis\u003ddict(\n                showline\u003dFalse, showgrid\u003dFalse, showticklabels\u003dTrue, \n                linecolor\u003d\u0027rgb(204,204,204)\u0027,linewidth \u003d2,\n                ticks\u003d\u0027outside\u0027, tickfont\u003ddict(family\u003d\u0027Arial\u0027,\n                size\u003d12, color\u003d\u0027rgb(82,82,82)\u0027),),\n                yaxis \u003d dict(\n                showline\u003dFalse, showgrid\u003dFalse, showticklabels\u003dTrue, \n                linecolor\u003d\u0027rgb(204,204,204)\u0027,linewidth \u003d2,\n                ticks\u003d\u0027outside\u0027, tickfont\u003ddict(family\u003d\u0027Arial\u0027,\n                size\u003d12, color\u003d\u0027rgb(82,82,82)\u0027),),)\nLst_fig_eng.append(fig24)\n# fig24.show()"
    },
    {
      "cell_type": "code",
      "execution_count": 91,
      "metadata": {
        "autoscroll": "auto"
      },
      "outputs": [],
      "source": "%python\n# df_normalized_all3"
    },
    {
      "cell_type": "code",
      "execution_count": 92,
      "metadata": {
        "autoscroll": "auto"
      },
      "outputs": [],
      "source": "%python\n# # x0 \u003d np.random.randn(500)\n# # # Add 1 to shift the mean of the Gaussian distribution\n# # x1 \u003d np.random.randn(500) + 1\n# # df_normalized_all\n# x0\u003ddf_normalized_all3[\u0027Daily_First_Dose\u0027]\n# x1\u003ddf_normalized_all3[\u0027Daily_Second_Dose\u0027]\n# x2\u003ddf_normalized_all3[\u0027Daily_death_count\u0027]\n# fig_hist3 \u003d go.Figure()\n# fig_hist3.add_trace(go.Histogram(x\u003dx0))\n# fig_hist3.add_trace(go.Histogram(x\u003dx1))\n# fig_hist3.add_trace(go.Histogram(x\u003dx2))\n\n# # Overlay both histograms\n# fig_hist3.update_layout(barmode\u003d\u0027overlay\u0027)\n# # Reduce opacity to see both histograms\n# fig_hist3.update_traces(opacity\u003d0.80)\n\n# fig_hist3.show()\n# # fig \u003d go.Figure() # or any Plotly Express function e.g. px.bar(...)\n# # fig.add_trace( ... )\n# # fig.update_layout( ... )\n\n\n\nx0\u003ddf_normalized_all3[\u0027Daily_First_Dose\u0027]\nx1\u003ddf_normalized_all3[\u0027Daily_Second_Dose\u0027]\nx2\u003ddf_normalized_all3[\u0027Daily_death_count\u0027]\ny\u003ddf_normalized_all3[\u0027date\u0027]\nfig_hist3 \u003dpx.histogram(df_normalized_all3,x\u003d\u0027Daily_death_count\u0027,\n                        nbins\u003d15, marginal\u003d\u0027violin\u0027)\n# fig_hist3 \u003d go.Figure()\nfig_hist3.add_trace(go.Histogram(x\u003dx0,name\u003d\u0027First_dose\u0027))\nfig_hist3.add_trace(go.Histogram(x\u003dx1,name\u003d\u0027Second_dose\u0027))\n# fig_hist3.add_trace(go.Histogram(x\u003dx2))\n\n# # Reduce opacity to see both histograms\nfig_hist3.update_traces(opacity\u003d0.80)\n\n# # Overlay all histograms\nfig_hist3.update_layout(barmode\u003d\u0027overlay\u0027,\n                   title\u003d\u0027Vaccination VS Death rate in Scotland in 2021\u0027,\n                xaxis_title\u003d\u0027Normalised scale\u0027,yaxis_title\u003d\u0027Normalised Counts\u0027,\n                xaxis\u003ddict(\n                showline\u003dFalse, showgrid\u003dFalse, showticklabels\u003dTrue, \n                linecolor\u003d\u0027rgb(204,204,204)\u0027,linewidth \u003d2,\n                ticks\u003d\u0027outside\u0027, tickfont\u003ddict(family\u003d\u0027Arial\u0027,\n                size\u003d12, color\u003d\u0027rgb(82,82,82)\u0027),),\n                yaxis \u003d dict(\n                showline\u003dFalse, showgrid\u003dFalse, showticklabels\u003dTrue, \n                linecolor\u003d\u0027rgb(204,204,204)\u0027,linewidth \u003d2,\n                ticks\u003d\u0027outside\u0027, tickfont\u003ddict(family\u003d\u0027Arial\u0027,\n                size\u003d12, color\u003d\u0027rgb(82,82,82)\u0027),),)\nLst_fig_eng.append(fig_hist3)\n# fig_hist3.show()\n"
    },
    {
      "cell_type": "code",
      "execution_count": 93,
      "metadata": {
        "autoscroll": "auto"
      },
      "outputs": [],
      "source": "%python\n\n# # app \u003d dash.Dash()\n# # app.layout \u003d html.Div(className\u003d\u0027row\u0027, children\u003d[\n# #     html.H1(\"NHS COVID Data analysis for Northen Ireland\"),\n# #     dcc.Dropdown(),\n# #     html.Div(children\u003d[\n# #         dcc.Graph(id\u003d\"Graph1\",figure\u003dfig1, style\u003d{\u0027display\u0027: \u0027inline-block\u0027}),\n# #         dcc.Graph(id\u003d\"Graph2\",figure\u003dfig2, style\u003d{\u0027display\u0027: \u0027inline-block\u0027}),\n# #         dcc.Graph(id\u003d\"Graph3\",figure\u003dfig3, style\u003d{\u0027display\u0027: \u0027inline-block\u0027}),\n# #         dcc.Graph(id\u003d\"Graph4\",figure\u003dfig4, style\u003d{\u0027display\u0027: \u0027inline-block\u0027}),\n# #         dcc.Graph(id\u003d\"Graph5\",figure\u003dfig5, style\u003d{\u0027display\u0027: \u0027inline-block\u0027}),\n# #         dcc.Graph(id\u003d\"Graph6\",figure\u003dfig6, style\u003d{\u0027display\u0027: \u0027inline-block\u0027}),\n# #         dcc.Graph(id\u003d\"Graph7\",figure\u003dfig7, style\u003d{\u0027display\u0027: \u0027inline-block\u0027}),\n# #         dcc.Graph(id\u003d\"Graph8\",figure\u003dfig8, style\u003d{\u0027display\u0027: \u0027inline-block\u0027}),\n# #         dcc.Graph(id\u003d\"Graph9\",figure\u003dfig_hist1, style\u003d{\u0027display\u0027: \u0027inline-block\u0027})        \n# #     ])\n# # ])\n# # app.run_server(debug\u003dTrue, use_reloader\u003dFalse)  # Turn off reloader if inside Jupyter\n\n# app \u003d dash.Dash()\n# app.layout \u003d html.Div(className\u003d\u0027row\u0027, children\u003d[\n#     html.H1(\"NHS COVID Data analysis for Scotland\"),\n#     dcc.Dropdown(),\n#     html.Div(children\u003d[\n#         dcc.Graph(id\u003d\"Graph1\",figure\u003dfig17, style\u003d{\u0027display\u0027: \u0027inline-block\u0027}),\n#         dcc.Graph(id\u003d\"Graph2\",figure\u003dfig18, style\u003d{\u0027display\u0027: \u0027inline-block\u0027}),\n#         dcc.Graph(id\u003d\"Graph3\",figure\u003dfig19, style\u003d{\u0027display\u0027: \u0027inline-block\u0027}),\n#         dcc.Graph(id\u003d\"Graph4\",figure\u003dfig20, style\u003d{\u0027display\u0027: \u0027inline-block\u0027}),\n#         dcc.Graph(id\u003d\"Graph5\",figure\u003dfig21, style\u003d{\u0027display\u0027: \u0027inline-block\u0027}),\n#         dcc.Graph(id\u003d\"Graph6\",figure\u003dfig22, style\u003d{\u0027display\u0027: \u0027inline-block\u0027}),\n#         dcc.Graph(id\u003d\"Graph7\",figure\u003dfig23, style\u003d{\u0027display\u0027: \u0027inline-block\u0027}),\n#         dcc.Graph(id\u003d\"Graph8\",figure\u003dfig24, style\u003d{\u0027display\u0027: \u0027inline-block\u0027}),\n#         dcc.Graph(id\u003d\"Graph9\",figure\u003dfig_hist3, style\u003d{\u0027display\u0027: \u0027inline-block\u0027})        \n#     ])\n# ])\n# app.run_server(debug\u003dTrue, use_reloader\u003dFalse)  # Turn off reloader if inside Jupyter\n"
    },
    {
      "cell_type": "code",
      "execution_count": 94,
      "metadata": {
        "autoscroll": "auto"
      },
      "outputs": [],
      "source": "%python\n# app \u003d dash.Dash()\n# app.layout \u003d html.Div(className\u003d\u0027row\u0027, children\u003d[\n#     html.H1(\"NHS COVID Data analysis\"),\n#     dcc.Dropdown(),\n#     html.Div(children\u003d[\n#         dcc.Graph(id\u003d\"Graph1\",figure\u003dfig, style\u003d{\u0027display\u0027: \u0027inline-block\u0027}),\n#         dcc.Graph(id\u003d\"Graph2\",figure\u003dfig, style\u003d{\u0027display\u0027: \u0027inline-block\u0027})\n#     ])\n# ])\n# app.run_server(debug\u003dTrue, use_reloader\u003dFalse)  "
    },
    {
      "cell_type": "markdown",
      "metadata": {},
      "source": "### Wales"
    },
    {
      "cell_type": "code",
      "execution_count": 96,
      "metadata": {
        "autoscroll": "auto"
      },
      "outputs": [],
      "source": "%python\nfile_names\u003d[\"N_WLS.csv\",\u0027N_WLS_DEATH\u0027]\nfor d in datalist:\n    for file_name in file_names:\n        if file_name in d:\n            data4\u003dpd.read_csv(\u0027N_WLS.csv\u0027)\n            data_d4\u003dpd.read_csv(\u0027N_WLS_DEATH.csv\u0027)\nprint(\"files found and data appended to dataframes...\")"
    },
    {
      "cell_type": "code",
      "execution_count": 97,
      "metadata": {
        "autoscroll": "auto"
      },
      "outputs": [],
      "source": "%python\ndata4\ndummy_data_4\u003ddata4[\u0027areaName\u0027]\ndummy_data_4"
    },
    {
      "cell_type": "code",
      "execution_count": 98,
      "metadata": {
        "autoscroll": "auto"
      },
      "outputs": [],
      "source": "%python\ndata4.drop(columns\u003d[\u0027areaCode\u0027,\u0027areaType\u0027,\u0027areaName\u0027],axis\u003d1, inplace\u003dTrue)\ndata4.rename(columns\u003d{\"cumPeopleVaccinatedFirstDoseByPublishDate\":\"First_Dose\",\n                      \"cumPeopleVaccinatedSecondDoseByPublishDate\":\"Second_Dose\"},inplace\u003dTrue)\n# data4[\u0027date\u0027].sort_index(ascending\u003dFalse)\n# data4\ndata4"
    },
    {
      "cell_type": "code",
      "execution_count": 99,
      "metadata": {
        "autoscroll": "auto"
      },
      "outputs": [],
      "source": "%python\ndata_d4.rename(columns\u003d{\u0027cumDailyNsoDeathsByDeathDate\u0027:\u0027deaths\u0027},inplace\u003dTrue)\ndata_d4\u003dpd.DataFrame(data_d4[\u0027deaths\u0027])\ndata_d4"
    },
    {
      "cell_type": "code",
      "execution_count": 100,
      "metadata": {
        "autoscroll": "auto"
      },
      "outputs": [],
      "source": "%python\ndata_all_4\u003dpd.concat([data4,data_d4],axis\u003d1)\ndata_all_4"
    },
    {
      "cell_type": "code",
      "execution_count": 101,
      "metadata": {
        "autoscroll": "auto"
      },
      "outputs": [],
      "source": "%python\npct_first\u003dpd.DataFrame(data_all_4[\u0027First_Dose\u0027].pct_change())\npct_second\u003dpd.DataFrame(data_all_4[\u0027Second_Dose\u0027].pct_change())\npct_deaths\u003dpd.DataFrame(data_all_4[\u0027deaths\u0027].pct_change())\ndf_pct4\u003dpd.concat([data_all_4,pct_first,\n                  pct_second,pct_deaths],axis\u003d1)"
    },
    {
      "cell_type": "code",
      "execution_count": 102,
      "metadata": {
        "autoscroll": "auto"
      },
      "outputs": [],
      "source": "%python\ndf_pct4.tail()\ndf_pct4.dropna(inplace\u003dTrue)\ndf_pct4"
    },
    {
      "cell_type": "code",
      "execution_count": 103,
      "metadata": {
        "autoscroll": "auto"
      },
      "outputs": [],
      "source": "%python\n# cols\u003dpd.Series(df.columns)\ndf_uniq\u003dpd.Series(df_pct4.columns)\nfor dup in df_pct4.columns[df_pct4.columns.duplicated(keep\u003dFalse)]: \n    df_uniq[df_pct4.columns.get_loc(dup)] \u003d ([dup + \u0027.\u0027 + str(d_idx) \n                                     if d_idx !\u003d 0 \n                                     else dup \n                                     for d_idx in range(df_pct4.columns.get_loc(dup).sum())])\ndf_pct4.columns\u003ddf_uniq"
    },
    {
      "cell_type": "code",
      "execution_count": 104,
      "metadata": {
        "autoscroll": "auto"
      },
      "outputs": [],
      "source": "%python\ndf_pct4\u003dpd.concat([df_pct4,dummy_data_4],axis\u003d1)\ndf_pct4.dropna(inplace\u003dTrue)\ndf_pct4\ndf_pct4"
    },
    {
      "cell_type": "code",
      "execution_count": 105,
      "metadata": {
        "autoscroll": "auto"
      },
      "outputs": [],
      "source": "%python\n# fig25 \u003d px.line(df_pct4, x\u003ddf_pct4.date, y\u003d[\u0027First_Dose\u0027],title\u003d\u0027First Dosage Vaccination Count in Wales during 2021\u0027)\n# fig25.show()\nfig25 \u003d px.line(df_pct4, x\u003ddf_pct4.date, y\u003d[\u0027First_Dose\u0027],\n               hover_name \u003ddf_pct4.areaName)\nfig25.update_layout(title\u003d\u0027First Dosage Vaccination Count in Wales during 2021\u0027,\n                xaxis_title\u003d\u0027Dates\u0027,yaxis_title\u003d\u0027Count of First Dose\u0027)\nLst_fig_eng.append(fig25)\nfig25.show()"
    },
    {
      "cell_type": "code",
      "execution_count": 106,
      "metadata": {
        "autoscroll": "auto"
      },
      "outputs": [],
      "source": "%python\n# fig26 \u003d px.line(df_pct4, x\u003ddf_pct4.date, y\u003d[\u0027Second_Dose\u0027],title\u003d\u0027Second Dosage Vaccination Count in Wales during 2021\u0027)\n# fig26.show()\n\nfig26 \u003d px.line(df_pct4, x\u003ddf_pct4.date, y\u003d[\u0027Second_Dose\u0027],\n               hover_name \u003ddf_pct4.areaName)\nfig26\u003dgo.Figure()\nfig26.add_trace(go.Scatter(x\u003ddf_pct4.date, y\u003ddf_pct4.Second_Dose,\n                         mode\u003d\u0027lines\u0027,name\u003d\u0027Second Jab Completion\u0027,\n                         line\u003ddict(color\u003d\u0027seagreen\u0027, dash\u003d\u0027dash\u0027)))\nfig26.update_layout(title\u003d\u0027Second Dosage Vaccination Count in Wales during 2021\u0027,\n                xaxis_title\u003d\u0027Dates\u0027,yaxis_title\u003d\u0027Count of Second Dose\u0027)\nLst_fig_eng.append(fig26)\nfig26.show()"
    },
    {
      "cell_type": "code",
      "execution_count": 107,
      "metadata": {
        "autoscroll": "auto"
      },
      "outputs": [],
      "source": "%python\n# fig27 \u003d px.line(df_pct4, x\u003ddf_pct4.date, y\u003d[\u0027deaths\u0027],title\u003d\u0027Death Count in Wales during 2021\u0027)\n# fig27.show()\n\nfig27 \u003d px.line(df_pct4, x\u003ddf_pct4.date, y\u003d[\u0027deaths\u0027],\n              hover_name \u003ddf_pct4.areaName)\nfig27\u003dgo.Figure()\nfig27.add_trace(go.Scatter(x\u003ddf_pct4.date, y\u003ddf_pct4.deaths,\n                         mode\u003d\u0027lines\u0027,name\u003d\u0027Deaths\u0027,\n                         line\u003ddict(color\u003d\u0027firebrick\u0027, dash\u003d\u0027dot\u0027)))\nfig27.update_layout(title\u003d\u0027Death Count in Wales during 2021\u0027,\n                xaxis_title\u003d\u0027Dates\u0027,yaxis_title\u003d\u0027Count of Deaths\u0027)\nLst_fig_eng.append(fig27)\n# fig27.show()"
    },
    {
      "cell_type": "code",
      "execution_count": 108,
      "metadata": {
        "autoscroll": "auto"
      },
      "outputs": [],
      "source": "%python\n# fig28 \u003d px.line(df_pct4, x\u003d\"date\", y\u003d[\u0027First_Dose\u0027,\u0027Second_Dose\u0027,\u0027deaths\u0027],\n#                labels\u003d{\u0027x\u0027:\u0027Dates\u0027,\u0027y\u0027:\u0027Count of completed Doses\u0027},\n#                title\u003d\u0027Vaccination VS Deaths Count in Wales in 2021\u0027)\n# fig28.update_traces(textposition\u003d\"bottom right\")\n# fig28.show()\n\n\nfig28 \u003d px.line(df_pct4, x\u003d\"date\", y\u003d[\u0027First_Dose\u0027,\u0027Second_Dose\u0027,\u0027deaths\u0027])\nfig28\u003dgo.Figure()\nfig28.add_trace(go.Scatter(x\u003ddf_pct4.date, y\u003ddf_pct4.First_Dose,\n                         mode\u003d\u0027lines\u0027,name\u003d\u0027First Jab Completion\u0027,\n                         line\u003ddict(dash\u003d\u0027dash\u0027)))\nfig28.add_trace(go.Scatter(x\u003ddf_pct4.date, y\u003ddf_pct4.Second_Dose,\n                         mode\u003d\u0027lines\u0027,name\u003d\u0027Second Jab Completion\u0027,\n                         line\u003ddict(color\u003d\u0027seagreen\u0027,dash\u003d\u0027dot\u0027)))\nfig28.add_trace(go.Scatter(x\u003ddf_pct4.date, y\u003ddf_pct4.deaths,\n                         mode\u003d\u0027lines\u0027,name\u003d\u0027deaths\u0027,\n                         line\u003ddict(color\u003d\u0027firebrick\u0027,width\u003d3,\n                                  dash\u003d\u0027solid\u0027)))\nfig28.update_layout(title\u003d\u0027Vaccination VS Death Count in Wales in 2021\u0027,\n                xaxis_title\u003d\u0027Dates\u0027,yaxis_title\u003d\u0027Count of completed Doses and Deaths\u0027,\n                xaxis\u003ddict(\n                showline\u003dFalse, showgrid\u003dFalse, showticklabels\u003dTrue, \n                linecolor\u003d\u0027rgb(204,204,204)\u0027,linewidth \u003d2,\n                ticks\u003d\u0027outside\u0027, tickfont\u003ddict(family\u003d\u0027Arial\u0027,\n                size\u003d12, color\u003d\u0027rgb(82,82,82)\u0027),),\n                yaxis \u003d dict(\n                showline\u003dFalse, showgrid\u003dFalse, showticklabels\u003dTrue, \n                linecolor\u003d\u0027rgb(204,204,204)\u0027,linewidth \u003d2,\n                ticks\u003d\u0027outside\u0027, tickfont\u003ddict(family\u003d\u0027Arial\u0027,\n                size\u003d12, color\u003d\u0027rgb(82,82,82)\u0027),),)\nLst_fig_eng.append(fig28)\n# fig28.show()\n"
    },
    {
      "cell_type": "code",
      "execution_count": 109,
      "metadata": {
        "autoscroll": "auto"
      },
      "outputs": [],
      "source": "%python\n# fig29 \u003d px.line(df_pct4, x\u003d\"date\", y\u003d[\u0027First_Dose.1\u0027,\u0027Second_Dose.1\u0027,\u0027deaths.1\u0027],\n#                labels\u003d{\u0027x\u0027:\u0027Dates\u0027,\u0027y\u0027:\u0027Count of completed Doses\u0027},\n#                title\u003d\u0027Vaccination VS Deaths Percentile  in Wales in 2021\u0027)\n# fig29.show()\n\n\nfig29 \u003d px.line(df_pct4, x\u003d\"date\", y\u003d[\u0027First_Dose.1\u0027,\u0027Second_Dose.1\u0027,\u0027deaths.1\u0027])\nfig29\u003dgo.Figure()\nfig29.add_trace(go.Scatter(x\u003ddf_pct4.date, y\u003ddf_pct4[\u0027First_Dose.1\u0027],\n                         mode\u003d\u0027lines\u0027,name\u003d\u0027First Jab Completion\u0027,\n                         line\u003ddict(dash\u003d\u0027dash\u0027)))\nfig29.add_trace(go.Scatter(x\u003ddf_pct4.date, y\u003ddf_pct4[\u0027Second_Dose.1\u0027],\n                         mode\u003d\u0027lines\u0027,name\u003d\u0027Second Jab Completion\u0027,\n                         line\u003ddict(color\u003d\u0027seagreen\u0027,dash\u003d\u0027dot\u0027)))\nfig29.add_trace(go.Scatter(x\u003ddf_pct4.date, y\u003ddf_pct4[\u0027deaths.1\u0027],\n                         mode\u003d\u0027lines\u0027,name\u003d\u0027deaths\u0027,\n                         line\u003ddict(color\u003d\u0027firebrick\u0027,width\u003d3,dash\u003d\u0027solid\u0027)))\nfig29.update_layout(title\u003d\u0027Vaccination VS Death Percentile in Wales in 2021\u0027,\n                xaxis_title\u003d\u0027Dates\u0027,yaxis_title\u003d\u0027Percentile of completed Doses and Deaths\u0027,\n                xaxis\u003ddict(\n                showline\u003dFalse, showgrid\u003dFalse, showticklabels\u003dTrue, \n                linecolor\u003d\u0027rgb(204,204,204)\u0027,linewidth \u003d2,\n                ticks\u003d\u0027outside\u0027, tickfont\u003ddict(family\u003d\u0027Arial\u0027,\n                size\u003d12, color\u003d\u0027rgb(82,82,82)\u0027),),\n                yaxis \u003d dict(\n                showline\u003dFalse, showgrid\u003dFalse, showticklabels\u003dTrue, \n                linecolor\u003d\u0027rgb(204,204,204)\u0027,linewidth \u003d2,\n                ticks\u003d\u0027outside\u0027, tickfont\u003ddict(family\u003d\u0027Arial\u0027,\n                size\u003d12, color\u003d\u0027rgb(82,82,82)\u0027),),)\nLst_fig_eng.append(fig29)\n# fig29.show()\n\n"
    },
    {
      "cell_type": "code",
      "execution_count": 110,
      "metadata": {
        "autoscroll": "auto"
      },
      "outputs": [],
      "source": "%python\ndifference_1 \u003d df_pct4[\u0027First_Dose\u0027].diff();\nprint(\"Difference between rows(Period\u003d1):\");\ndiff1\u003dpd.DataFrame(difference_1)\ndiff1.rename(columns\u003d{\u0027First_Dose\u0027:\u0027Daily_First_Dose\u0027},inplace\u003dTrue)\ndiff1.dropna(inplace\u003dTrue)\ndiff1"
    },
    {
      "cell_type": "code",
      "execution_count": 111,
      "metadata": {
        "autoscroll": "auto"
      },
      "outputs": [],
      "source": "%python\ndifference_2 \u003d df_pct4[\u0027Second_Dose\u0027].diff();\nprint(\"Difference between rows(Period\u003d1):\");\ndiff2\u003dpd.DataFrame(difference_2)\ndiff2.rename(columns\u003d{\u0027Second_Dose\u0027:\u0027Daily_Second_Dose\u0027},inplace\u003dTrue)\ndiff2.dropna(inplace\u003dTrue)\ndiff2"
    },
    {
      "cell_type": "code",
      "execution_count": 112,
      "metadata": {
        "autoscroll": "auto"
      },
      "outputs": [],
      "source": "%python\ndifference_3 \u003d df_pct4[\u0027deaths\u0027].diff();\nprint(\"Difference between rows(Period\u003d1):\");\ndiff3\u003dpd.DataFrame(difference_3)\ndiff3.rename(columns\u003d{\u0027deaths\u0027:\u0027Daily_death_count\u0027},inplace\u003dTrue)\ndiff3.dropna(inplace\u003dTrue)\ndiff3"
    },
    {
      "cell_type": "code",
      "execution_count": 113,
      "metadata": {
        "autoscroll": "auto"
      },
      "outputs": [],
      "source": "%python\ndaily_df4\u003dpd.concat([diff1,diff2,diff3],axis\u003d1)"
    },
    {
      "cell_type": "code",
      "execution_count": 114,
      "metadata": {
        "autoscroll": "auto"
      },
      "outputs": [],
      "source": "%python\ndaily_df4\u003dpd.concat([df_pct4.date,daily_df4], axis\u003d1)"
    },
    {
      "cell_type": "code",
      "execution_count": 115,
      "metadata": {
        "autoscroll": "auto"
      },
      "outputs": [],
      "source": "%python\ndaily_df4.dropna(inplace\u003dTrue)\ndaily_df4"
    },
    {
      "cell_type": "code",
      "execution_count": 116,
      "metadata": {
        "autoscroll": "auto"
      },
      "outputs": [],
      "source": "%python\n# fig30 \u003d px.line(daily_df4, x\u003d\"date\", y\u003d[\u0027Daily_First_Dose\u0027,\u0027Daily_Second_Dose\u0027,\u0027Daily_death_count\u0027], \n#                title\u003d\u0027Comparison among everyday vaccination count and deaths in Wales during 2021\u0027)\n# fig30.show()\n\nfig30 \u003d px.line(daily_df4, x\u003d\"date\", y\u003d[\u0027Daily_First_Dose\u0027,\u0027Daily_Second_Dose\u0027,\u0027Daily_death_count\u0027], \n               title\u003d\u0027Comparison between everyday vaccination and death count in Wales during 2021\u0027)\nfig30\u003dgo.Figure()\nfig30.add_trace(go.Scatter(x\u003ddaily_df4.date, y\u003ddaily_df4[\u0027Daily_First_Dose\u0027],\n                         mode\u003d\u0027lines\u0027,name\u003d\u0027First Jab Daily Count\u0027,\n                        line\u003ddict(color\u003d\u0027orchid\u0027,dash\u003d\u0027dot\u0027)))\nfig30.add_trace(go.Scatter(x\u003ddaily_df4.date, y\u003ddaily_df4[\u0027Daily_Second_Dose\u0027],\n                         mode\u003d\u0027lines\u0027,name\u003d\u0027Second Jab Daily Count\u0027,\n                         line\u003ddict(color\u003d\u0027olive\u0027,dash\u003d\u0027dot\u0027)))\nfig30.add_trace(go.Scatter(x\u003ddaily_df4.date, y\u003ddaily_df4[\u0027Daily_death_count\u0027],\n                         mode\u003d\u0027lines\u0027,name\u003d\u0027deaths\u0027,\n                         line\u003ddict(color\u003d\u0027mediumaquamarine\u0027,width\u003d3,dash\u003d\u0027solid\u0027)))\nfig30.update_layout(title\u003d\u0027Comparison between everyday vaccination and death count in Wales during 2021\u0027,\n                xaxis_title\u003d\u0027Dates\u0027,yaxis_title\u003d\u0027Everyday count of completed Doses and Deaths\u0027,\n                xaxis\u003ddict(\n                showline\u003dFalse, showgrid\u003dFalse, showticklabels\u003dTrue, \n                linecolor\u003d\u0027rgb(204,204,204)\u0027,linewidth \u003d2,\n                ticks\u003d\u0027outside\u0027, tickfont\u003ddict(family\u003d\u0027Arial\u0027,\n                size\u003d12, color\u003d\u0027rgb(82,82,82)\u0027),),\n                yaxis \u003d dict(\n                showline\u003dFalse, showgrid\u003dFalse, showticklabels\u003dTrue, \n                linecolor\u003d\u0027rgb(204,204,204)\u0027,linewidth \u003d2,\n                ticks\u003d\u0027outside\u0027, tickfont\u003ddict(family\u003d\u0027Arial\u0027,\n                size\u003d12, color\u003d\u0027rgb(82,82,82)\u0027),),)\nLst_fig_eng.append(fig30)\n# fig30.show()\n\n"
    },
    {
      "cell_type": "code",
      "execution_count": 117,
      "metadata": {
        "autoscroll": "auto"
      },
      "outputs": [],
      "source": "%python\ndaily_df4\nf_d\u003ddaily_df4[[\u0027Daily_First_Dose\u0027,\u0027Daily_Second_Dose\u0027,\u0027Daily_death_count\u0027]]\nf_d.astype(int)"
    },
    {
      "cell_type": "code",
      "execution_count": 118,
      "metadata": {
        "autoscroll": "auto"
      },
      "outputs": [],
      "source": "%python\ncols \u003d f_d.columns\ncols\ndf \u003d pd.DataFrame(f_d)\ndf"
    },
    {
      "cell_type": "code",
      "execution_count": 119,
      "metadata": {
        "autoscroll": "auto"
      },
      "outputs": [],
      "source": "%python\nmin_max_scaler \u003d preprocessing.MinMaxScaler()\nnp_scaled \u003d min_max_scaler.fit_transform(df)\ndf_normalized4 \u003d pd.DataFrame(np_scaled, columns \u003d cols)\ndf_normalized4"
    },
    {
      "cell_type": "code",
      "execution_count": 120,
      "metadata": {
        "autoscroll": "auto"
      },
      "outputs": [],
      "source": "%python\ndf_normalized_all4\u003dpd.concat([daily_df4.date,df_normalized4], axis\u003d1)\ndf_normalized_all4\u003ddf_normalized_all4.dropna()\n"
    },
    {
      "cell_type": "code",
      "execution_count": 121,
      "metadata": {
        "autoscroll": "auto"
      },
      "outputs": [],
      "source": "%python\n# fig31 \u003d px.line(daily_df4, x\u003ddaily_df4.date, y\u003ddaily_df4.Daily_death_count, \n#                title\u003d\u0027Everyday deaths in Wales during 2021\u0027)\n# fig31.show()\n\nfig31 \u003d px.line(daily_df4, x\u003ddaily_df4.date, y\u003ddaily_df4.Daily_death_count)\nfig31.add_trace(go.Scatter(x\u003ddaily_df4.date, y\u003ddaily_df4[\u0027Daily_death_count\u0027],\n                         mode\u003d\u0027lines+markers\u0027,name\u003d\u0027Daily Deaths\u0027,\n                         line\u003ddict(color\u003d\u0027firebrick\u0027,width\u003d4,dash\u003d\u0027longdash\u0027)))\nfig31.update_layout(title\u003d\u0027Everyday deaths in Wales during 2021\u0027,\n                xaxis_title\u003d\u0027Dates\u0027,yaxis_title\u003d\u0027Number of deaths\u0027,\n                xaxis\u003ddict(\n                showline\u003dFalse, showgrid\u003dFalse, showticklabels\u003dTrue, \n                linecolor\u003d\u0027rgb(204,204,204)\u0027,linewidth \u003d2,\n                ticks\u003d\u0027outside\u0027, tickfont\u003ddict(family\u003d\u0027Arial\u0027,\n                size\u003d12, color\u003d\u0027rgb(82,82,82)\u0027),),\n                yaxis \u003d dict(\n                showline\u003dFalse, showgrid\u003dFalse, showticklabels\u003dTrue, \n                linecolor\u003d\u0027rgb(204,204,204)\u0027,linewidth \u003d2,\n                ticks\u003d\u0027outside\u0027, tickfont\u003ddict(family\u003d\u0027Arial\u0027,\n                size\u003d12, color\u003d\u0027rgb(82,82,82)\u0027),),)\nLst_fig_eng.append(fig31)\n# fig31.show()"
    },
    {
      "cell_type": "code",
      "execution_count": 122,
      "metadata": {
        "autoscroll": "auto"
      },
      "outputs": [],
      "source": "%python\n# fig32 \u003d px.line(df_normalized_all4, x\u003d\u0027date\u0027, y\u003d[\u0027Daily_First_Dose\u0027,\u0027Daily_Second_Dose\u0027,\u0027Daily_death_count\u0027], \n#                title\u003d\u0027Everyday vaccination rate and impact on death rate in Wales during 2021\u0027)\n# fig32.show()\n\nfig32 \u003d px.line(df_normalized_all4, x\u003d\u0027date\u0027, y\u003d[\u0027Daily_First_Dose\u0027,\u0027Daily_Second_Dose\u0027,\u0027Daily_death_count\u0027])\nfig32\u003dgo.Figure()\nfig32.add_trace(go.Scatter(x\u003ddf_normalized_all4.date, y\u003ddf_normalized_all4[\u0027Daily_First_Dose\u0027],\n                         mode\u003d\u0027lines\u0027,name\u003d\u0027First Jab Completion\u0027,\n                         line\u003ddict(color\u003d\u0027rebeccapurple\u0027,dash\u003d\u0027dash\u0027)))\nfig32.add_trace(go.Scatter(x\u003ddf_normalized_all4.date, y\u003ddf_normalized_all4[\u0027Daily_Second_Dose\u0027],\n                         mode\u003d\u0027lines\u0027,name\u003d\u0027Second Jab Completion\u0027,\n                         line\u003ddict(color\u003d\u0027lime\u0027,dash\u003d\u0027dot\u0027)))\nfig32.add_trace(go.Scatter(x\u003ddf_normalized_all4.date, y\u003ddf_normalized_all4[\u0027Daily_death_count\u0027],\n                         mode\u003d\u0027lines\u0027,name\u003d\u0027deaths\u0027,\n                         line\u003ddict(color\u003d\u0027firebrick\u0027,width\u003d3,dash\u003d\u0027solid\u0027)))\nfig32.update_layout(title\u003d\u0027Everyday vaccination rate and its impact on death rate in Wales during 2021\u0027,\n                xaxis_title\u003d\u0027Dates\u0027,yaxis_title\u003d\u0027Normalised Counts\u0027,\n                xaxis\u003ddict(\n                showline\u003dFalse, showgrid\u003dFalse, showticklabels\u003dTrue, \n                linecolor\u003d\u0027rgb(204,204,204)\u0027,linewidth \u003d2,\n                ticks\u003d\u0027outside\u0027, tickfont\u003ddict(family\u003d\u0027Arial\u0027,\n                size\u003d12, color\u003d\u0027rgb(82,82,82)\u0027),),\n                yaxis \u003d dict(\n                showline\u003dFalse, showgrid\u003dFalse, showticklabels\u003dTrue, \n                linecolor\u003d\u0027rgb(204,204,204)\u0027,linewidth \u003d2,\n                ticks\u003d\u0027outside\u0027, tickfont\u003ddict(family\u003d\u0027Arial\u0027,\n                size\u003d12, color\u003d\u0027rgb(82,82,82)\u0027),),)\nLst_fig_eng.append(fig32)\n# fig32.show()\n\n"
    },
    {
      "cell_type": "code",
      "execution_count": 123,
      "metadata": {
        "autoscroll": "auto"
      },
      "outputs": [],
      "source": "%python\n# df_normalized_all4\n"
    },
    {
      "cell_type": "raw",
      "metadata": {
        "format": "text/plain"
      },
      "source": "%python\n"
    },
    {
      "cell_type": "code",
      "execution_count": 125,
      "metadata": {
        "autoscroll": "auto"
      },
      "outputs": [],
      "source": "%python\n# fig9 \u003d px.scatter(daily_df, x\u003ddaily_df.date, y\u003ddaily_df.Daily_death_count, \n#                title\u003d\u0027Everyday deaths in Wales during 2021\u0027)\n# fig9.show()"
    },
    {
      "cell_type": "raw",
      "metadata": {
        "format": "text/plain"
      },
      "source": "%python\n"
    },
    {
      "cell_type": "code",
      "execution_count": 127,
      "metadata": {
        "autoscroll": "auto"
      },
      "outputs": [],
      "source": "%python\n# # x0 \u003d np.random.randn(500)\n# # # Add 1 to shift the mean of the Gaussian distribution\n# # x1 \u003d np.random.randn(500) + 1\n# # df_normalized_all\n# x0\u003ddf_normalized_all4[\u0027Daily_First_Dose\u0027]\n# x1\u003ddf_normalized_all4[\u0027Daily_Second_Dose\u0027]\n# x2\u003ddf_normalized_all4[\u0027Daily_death_count\u0027]\n# fig_hist4 \u003d go.Figure()\n# fig_hist4.add_trace(go.Histogram(x\u003dx0))\n# fig_hist4.add_trace(go.Histogram(x\u003dx1))\n# fig_hist4.add_trace(go.Histogram(x\u003dx2))\n\n# # Overlay both histograms\n# fig_hist4.update_layout(barmode\u003d\u0027overlay\u0027)\n# # Reduce opacity to see both histograms\n# fig_hist4.update_traces(opacity\u003d0.80)\n\n# fig_hist4.show()\n# # fig \u003d go.Figure() # or any Plotly Express function e.g. px.bar(...)\n# # fig.add_trace( ... )\n# # fig.update_layout( ... )\n\n\n\n\n\nx0\u003ddf_normalized_all4[\u0027Daily_First_Dose\u0027]\nx1\u003ddf_normalized_all4[\u0027Daily_Second_Dose\u0027]\nx2\u003ddf_normalized_all4[\u0027Daily_death_count\u0027]\ny\u003ddf_normalized_all4[\u0027date\u0027]\nfig_hist4 \u003dpx.histogram(df_normalized_all4,x\u003d\u0027Daily_death_count\u0027,\n                        nbins\u003d15, marginal\u003d\u0027violin\u0027)\n# fig_hist1 \u003d go.Figure()\nfig_hist4.add_trace(go.Histogram(x\u003dx0,name\u003d\u0027First_dose\u0027))\nfig_hist4.add_trace(go.Histogram(x\u003dx1,name\u003d\u0027Second_dose\u0027))\n# fig_hist4.add_trace(go.Histogram(x\u003dx2))\n\n# # Reduce opacity to see both histograms\nfig_hist4.update_traces(opacity\u003d0.80)\n\n# # Overlay all histograms\nfig_hist4.update_layout(barmode\u003d\u0027overlay\u0027,\n                   title\u003d\u0027Vaccination VS Death rate in Wales in 2021\u0027,\n                xaxis_title\u003d\u0027Normalised scale\u0027,yaxis_title\u003d\u0027Normalised Counts\u0027,\n                xaxis\u003ddict(\n                showline\u003dFalse, showgrid\u003dFalse, showticklabels\u003dTrue, \n                linecolor\u003d\u0027rgb(204,204,204)\u0027,linewidth \u003d2,\n                ticks\u003d\u0027outside\u0027, tickfont\u003ddict(family\u003d\u0027Arial\u0027,\n                size\u003d12, color\u003d\u0027rgb(82,82,82)\u0027),),\n                yaxis \u003d dict(\n                showline\u003dFalse, showgrid\u003dFalse, showticklabels\u003dTrue, \n                linecolor\u003d\u0027rgb(204,204,204)\u0027,linewidth \u003d2,\n                ticks\u003d\u0027outside\u0027, tickfont\u003ddict(family\u003d\u0027Arial\u0027,\n                size\u003d12, color\u003d\u0027rgb(82,82,82)\u0027),),)\nLst_fig_eng.append(fig_hist4)\n# fig_hist4.show()\n"
    },
    {
      "cell_type": "code",
      "execution_count": 128,
      "metadata": {
        "autoscroll": "auto"
      },
      "outputs": [],
      "source": "%python\n\n# app \u003d dash.Dash()\n# app.layout \u003d html.Div(className\u003d\u0027row\u0027, children\u003d[\n#     html.H1(\"NHS COVID Data analysis for Wales\"),\n#     dcc.Dropdown(),\n#     html.Div(children\u003d[\n#         dcc.Graph(id\u003d\"Graph1\",figure\u003dfig25, style\u003d{\u0027display\u0027: \u0027inline-block\u0027}),\n#         dcc.Graph(id\u003d\"Graph2\",figure\u003dfig26, style\u003d{\u0027display\u0027: \u0027inline-block\u0027}),\n#         dcc.Graph(id\u003d\"Graph3\",figure\u003dfig27, style\u003d{\u0027display\u0027: \u0027inline-block\u0027}),\n#         dcc.Graph(id\u003d\"Graph4\",figure\u003dfig28, style\u003d{\u0027display\u0027: \u0027inline-block\u0027}),\n#         dcc.Graph(id\u003d\"Graph5\",figure\u003dfig29, style\u003d{\u0027display\u0027: \u0027inline-block\u0027}),\n#         dcc.Graph(id\u003d\"Graph6\",figure\u003dfig30, style\u003d{\u0027display\u0027: \u0027inline-block\u0027}),\n#         dcc.Graph(id\u003d\"Graph7\",figure\u003dfig31, style\u003d{\u0027display\u0027: \u0027inline-block\u0027}),\n#         dcc.Graph(id\u003d\"Graph8\",figure\u003dfig32, style\u003d{\u0027display\u0027: \u0027inline-block\u0027}),\n#         dcc.Graph(id\u003d\"Graph9\",figure\u003dfig_hist4, style\u003d{\u0027display\u0027: \u0027inline-block\u0027})        \n#     ])\n# ])\n# app.run_server(debug\u003dTrue, use_reloader\u003dFalse)  # Turn off reloader if inside Jupyter\n\n"
    },
    {
      "cell_type": "code",
      "execution_count": 129,
      "metadata": {
        "autoscroll": "auto"
      },
      "outputs": [],
      "source": "%python\n# fig \u003d make_subplots(rows\u003d2, cols\u003d2)\n\n# trace0 \u003d go.Histogram(x\u003dx, nbinsx\u003d4)\n# trace1 \u003d go.Histogram(x\u003dx, nbinsx \u003d 8)\n# trace2 \u003d go.Histogram(x\u003dx, nbinsx\u003d10)\n# trace3 \u003d go.Histogram(x\u003dx,\n#                       xbins\u003ddict(\n#                       start\u003d\u00271969-11-15\u0027,\n#                       end\u003d\u00271972-03-31\u0027,\n#                       size\u003d\u0027M18\u0027), # M18 stands for 18 months\n#                       autobinx\u003dFalse\n#                      )\n# trace4 \u003d go.Histogram(x\u003dx,\n#                       xbins\u003ddict(\n#                       start\u003d\u00271969-11-15\u0027,\n#                       end\u003d\u00271972-03-31\u0027,\n#                       size\u003d\u0027M4\u0027), # 4 months bin size\n#                       autobinx\u003dFalse\n#                       )\n# trace5 \u003d go.Histogram(x\u003dx,\n#                       xbins\u003ddict(\n#                       start\u003d\u00271969-11-15\u0027,\n#                       end\u003d\u00271972-03-31\u0027,\n#                       size\u003d \u0027M2\u0027), # 2 months\n#                       autobinx \u003d False\n#                       )\n\n# fig.append_trace(trace0, 1, 1)\n# fig.append_trace(trace1, 1, 2)\n# fig.append_trace(trace2, 2, 1)\n# fig.append_trace(trace3, 2, 2)\n\n# fig.show()"
    },
    {
      "cell_type": "code",
      "execution_count": 130,
      "metadata": {
        "autoscroll": "auto"
      },
      "outputs": [],
      "source": "%python\n# app \u003d dash.Dash(__name__)\n\n# app.layout \u003d html.Div([\n#     dcc.Dropdown(\n#         id\u003d\"dropdown\",\n#         options\u003d[{\"label\": x, \"value\": x} for x in Country],\n#         value\u003dCountry[0],\n#         clearable\u003dFalse,\n#     ),\n#     dcc.Graph(id\u003d\"histograms\"),\n# ])\n\n# @app.callback(\n    \n    \n    \n    \n    \n    \n    \n    \n#     Output(\"histograms\", \"figure\"), \n#     [Input(\"dropdown\", \"value\")])\n# def update_bar_chart(day):\n#     mask \u003d df[\"day\"] \u003d\u003d day\n#     fig \u003d px.bar(df[mask], x\u003d\"sex\", y\u003d\"total_bill\", \n#                  color\u003d\"smoker\", barmode\u003d\"group\")\n#     return fig\n\n# app.run_server(debug\u003dTrue)"
    },
    {
      "cell_type": "markdown",
      "metadata": {},
      "source": "# Linear Regression and Prediction of UK Covid Cases"
    },
    {
      "cell_type": "code",
      "execution_count": 132,
      "metadata": {
        "autoscroll": "auto"
      },
      "outputs": [],
      "source": "%python \n\n!pip install seaborn\n"
    },
    {
      "cell_type": "code",
      "execution_count": 133,
      "metadata": {
        "autoscroll": "auto"
      },
      "outputs": [],
      "source": "%python\n\nimport pandas as pd\nimport numpy as np\nfrom sklearn.linear_model import LinearRegression\nfrom sklearn.preprocessing import PolynomialFeatures\nfrom sklearn.model_selection import train_test_split\nfrom sklearn.metrics import mean_squared_error\nfrom sklearn.metrics import r2_score\nimport seaborn as sns\nimport matplotlib.pyplot as plt"
    },
    {
      "cell_type": "code",
      "execution_count": 134,
      "metadata": {
        "autoscroll": "auto"
      },
      "outputs": [],
      "source": "%python\ndata_d \u003d pd.read_csv(\"UK_DEATH.csv\")\ndata_c\u003dpd.read_csv(\"UK_CASES.csv\")"
    },
    {
      "cell_type": "code",
      "execution_count": 135,
      "metadata": {
        "autoscroll": "auto"
      },
      "outputs": [],
      "source": "%python\ndata_dummy\u003ddata_d[\u0027date\u0027]"
    },
    {
      "cell_type": "code",
      "execution_count": 136,
      "metadata": {
        "autoscroll": "auto"
      },
      "outputs": [],
      "source": "%python\ndata_d.rename(columns\u003d{\u0027cumDailyNsoDeathsByDeathDate\u0027:\u0027deaths\u0027},inplace\u003dTrue)\ndata_d.drop(columns\u003d[\u0027areaCode\u0027,\u0027areaType\u0027,\u0027areaName\u0027,\u0027date\u0027],axis\u003d1, inplace\u003dTrue)\ndata_c.rename(columns\u003d{\u0027cumCasesByPublishDate\u0027:\u0027cases\u0027},inplace\u003dTrue)\ndata_c.drop(columns\u003d[\u0027areaCode\u0027,\u0027areaType\u0027,\u0027areaName\u0027,\u0027date\u0027],axis\u003d1, inplace\u003dTrue)\n\n"
    },
    {
      "cell_type": "code",
      "execution_count": 137,
      "metadata": {
        "autoscroll": "auto"
      },
      "outputs": [],
      "source": "%python\ndata_c"
    },
    {
      "cell_type": "code",
      "execution_count": 138,
      "metadata": {
        "autoscroll": "auto"
      },
      "outputs": [],
      "source": "%python\ndata_dnc\u003dpd.concat([data_d,data_c],axis\u003d1)\ndata_dnc"
    },
    {
      "cell_type": "code",
      "execution_count": 139,
      "metadata": {
        "autoscroll": "auto"
      },
      "outputs": [],
      "source": "%python\ndata_dnc\u003dpd.concat([data_d,data_c],axis\u003d1)\ndata_dnc"
    },
    {
      "cell_type": "code",
      "execution_count": 140,
      "metadata": {
        "autoscroll": "auto"
      },
      "outputs": [],
      "source": "%python\ndata_dnc.dropna(inplace\u003dTrue)\ndata_dnc"
    },
    {
      "cell_type": "code",
      "execution_count": 141,
      "metadata": {
        "autoscroll": "auto"
      },
      "outputs": [],
      "source": "%python\ndata_dnc\u003ddata_dnc.astype(int)\ndata_dnc"
    },
    {
      "cell_type": "code",
      "execution_count": 142,
      "metadata": {
        "autoscroll": "auto"
      },
      "outputs": [],
      "source": "%python\ndata_dc\u003dpd.concat([data_dummy,data_dnc],axis\u003d1)\ndata_dc.info()\ndata_dc.dropna(inplace\u003dTrue)\ndata_dc"
    },
    {
      "cell_type": "code",
      "execution_count": 143,
      "metadata": {
        "autoscroll": "auto"
      },
      "outputs": [],
      "source": "%python\n# data_dc[\u0027cases\u0027] \u003d data_dc[\u0027cases\u0027].str.replace(\u0027,\u0027, \u0027\u0027)\n# data_dc[\u0027deaths\u0027] \u003d data_dc[\u0027deaths\u0027].str.replace(\u0027,\u0027, \u0027\u0027)\ndata_dc[\u0027cases\u0027] \u003d pd.to_numeric(data_dc[\u0027cases\u0027])     \ndata_dc[\u0027deaths\u0027] \u003d pd.to_numeric(data_dc[\u0027deaths\u0027])\n"
    },
    {
      "cell_type": "code",
      "execution_count": 144,
      "metadata": {
        "autoscroll": "auto"
      },
      "outputs": [],
      "source": "%python\n\ndata_numeric \u003d data_dc.select_dtypes(include\u003d[\u0027object\u0027, \u0027int32\u0027,\u0027int64\u0027])\ndata_numeric "
    },
    {
      "cell_type": "code",
      "execution_count": 145,
      "metadata": {
        "autoscroll": "auto"
      },
      "outputs": [],
      "source": "%python\n\nplt.figure(figsize\u003d(20, 10))\nsns.pairplot(data_numeric)\nplt.show()\n"
    },
    {
      "cell_type": "code",
      "execution_count": 146,
      "metadata": {
        "autoscroll": "auto"
      },
      "outputs": [],
      "source": "%python\nX \u003d data_dc[\u0027cases\u0027].values.reshape(-1,1)\ny \u003d data_dc[\u0027deaths\u0027].values.reshape(-1,1)"
    },
    {
      "cell_type": "code",
      "execution_count": 147,
      "metadata": {
        "autoscroll": "auto"
      },
      "outputs": [],
      "source": "%python\nreg \u003d LinearRegression()\nreg.fit(X, y)\npredictions \u003d reg.predict(X)\nprint(\"The linear model is: Y \u003d {:.5} + {:.5}X\".format(reg.intercept_[0], reg.coef_[0][0]))\nplt.figure(figsize\u003d(16, 8))\nplt.scatter(\n    X,\n    y,\n    c\u003d\u0027black\u0027\n)\nplt.plot(\n    X,\n    predictions,\n    c\u003d\u0027blue\u0027,\n    linewidth\u003d2\n)\nplt.xlabel(\"Covid_cases\")\nplt.ylabel(\"Deaths_during_covid\")\nplt.show()"
    },
    {
      "cell_type": "code",
      "execution_count": 148,
      "metadata": {
        "autoscroll": "auto"
      },
      "outputs": [],
      "source": "%python\npoly \u003d PolynomialFeatures(degree \u003d4) \nX_poly \u003d poly.fit_transform(X) \n  \npoly.fit(X_poly, y) \nlin2 \u003d LinearRegression() \nlin2.fit(X_poly, y) \npred \u003d lin2.predict(X_poly)\nnew_X, new_y \u003d zip(*sorted(zip(X, pred)))\nprint(\"The linear model is: Y \u003d {:.5} + {:.5}X\".format(reg.intercept_[0], reg.coef_[0][0]))\n\nplt.figure(figsize\u003d(16, 8))\nplt.scatter(\n    X,\n    y,\n    c\u003d\u0027black\u0027\n)\nplt.plot(\n    new_X, new_y,\n    c\u003d\u0027blue\u0027\n)\nplt.xlabel(\"Cases\")\nplt.ylabel(\"Deaths\")\nplt.show()"
    },
    {
      "cell_type": "raw",
      "metadata": {
        "format": "text/plain"
      },
      "source": "%python\n"
    },
    {
      "cell_type": "code",
      "execution_count": 150,
      "metadata": {
        "autoscroll": "auto"
      },
      "outputs": [],
      "source": "%python\n\n# England\n\n\nimport dash\napp \u003d dash.Dash()\napp.layout \u003d html.Div(className\u003d\u0027row\u0027, children\u003d[\n    html.H1(\"NHS COVID Data analysis for ENGLAND\"),\n    dcc.Dropdown(),\n    html.Div(children\u003d[\n        dcc.Graph(id\u003d\"Graph1\",figure\u003dfig1, style\u003d{\u0027display\u0027: \u0027inline-block\u0027}),\n        dcc.Graph(id\u003d\"Graph2\",figure\u003dfig2, style\u003d{\u0027display\u0027: \u0027inline-block\u0027}),\n        dcc.Graph(id\u003d\"Graph3\",figure\u003dfig3, style\u003d{\u0027display\u0027: \u0027inline-block\u0027}),\n        dcc.Graph(id\u003d\"Graph4\",figure\u003dfig4, style\u003d{\u0027display\u0027: \u0027inline-block\u0027}),\n        dcc.Graph(id\u003d\"Graph5\",figure\u003dfig5, style\u003d{\u0027display\u0027: \u0027inline-block\u0027}),\n        dcc.Graph(id\u003d\"Graph6\",figure\u003dfig6, style\u003d{\u0027display\u0027: \u0027inline-block\u0027}),\n        dcc.Graph(id\u003d\"Graph7\",figure\u003dfig7, style\u003d{\u0027display\u0027: \u0027inline-block\u0027}),\n        dcc.Graph(id\u003d\"Graph8\",figure\u003dfig8, style\u003d{\u0027display\u0027: \u0027inline-block\u0027}),\n        dcc.Graph(id\u003d\"Graph9\",figure\u003dfig_hist1, style\u003d{\u0027display\u0027: \u0027inline-block\u0027})        \n    ])\n])\napp.run_server(debug\u003dFalse, use_reloader\u003dFalse)  # Turn off reloader if inside Jup"
    },
    {
      "cell_type": "code",
      "execution_count": 151,
      "metadata": {
        "autoscroll": "auto"
      },
      "outputs": [],
      "source": "%python\n\n# Northen Ireland\n\n# app \u003d dash.Dash()\n# app.layout \u003d html.Div(className\u003d\u0027row\u0027, children\u003d[\n#     html.H1(\"NHS COVID Data analysis\"),\n#     dcc.Dropdown(),\n#     html.Div(children\u003d[\n#         dcc.Graph(id\u003d\"Graph1\",figure\u003dfig, style\u003d{\u0027display\u0027: \u0027inline-block\u0027}),\n#         dcc.Graph(id\u003d\"Graph2\",figure\u003dfig, style\u003d{\u0027display\u0027: \u0027inline-block\u0027})\n#     ])\n# ])\n# app.run_server(debug\u003dTrue, use_reloader\u003dFalse)  \n\napp \u003d dash.Dash()\napp.layout \u003d html.Div(className\u003d\u0027row\u0027, children\u003d[\n    html.H1(\"NHS COVID Data analysis for NORTHEN IRELAND\"),\n    dcc.Dropdown(),\n    html.Div(children\u003d[\n        dcc.Graph(id\u003d\"Graph1\",figure\u003dfig9, style\u003d{\u0027display\u0027: \u0027inline-block\u0027}),\n        dcc.Graph(id\u003d\"Graph2\",figure\u003dfig10, style\u003d{\u0027display\u0027: \u0027inline-block\u0027}),\n        dcc.Graph(id\u003d\"Graph3\",figure\u003dfig11, style\u003d{\u0027display\u0027: \u0027inline-block\u0027}),\n        dcc.Graph(id\u003d\"Graph4\",figure\u003dfig12, style\u003d{\u0027display\u0027: \u0027inline-block\u0027}),\n        dcc.Graph(id\u003d\"Graph5\",figure\u003dfig13, style\u003d{\u0027display\u0027: \u0027inline-block\u0027}),\n        dcc.Graph(id\u003d\"Graph6\",figure\u003dfig14, style\u003d{\u0027display\u0027: \u0027inline-block\u0027}),\n        dcc.Graph(id\u003d\"Graph7\",figure\u003dfig15, style\u003d{\u0027display\u0027: \u0027inline-block\u0027}),\n        dcc.Graph(id\u003d\"Graph8\",figure\u003dfig16, style\u003d{\u0027display\u0027: \u0027inline-block\u0027}),\n        dcc.Graph(id\u003d\"Graph9\",figure\u003dfig_hist2, style\u003d{\u0027display\u0027: \u0027inline-block\u0027})        \n    ])\n])\napp.run_server(debug\u003dTrue, use_reloader\u003dFalse)  # Turn off reloader if inside Jupyter"
    },
    {
      "cell_type": "code",
      "execution_count": 152,
      "metadata": {
        "autoscroll": "auto"
      },
      "outputs": [],
      "source": "%python\n\n# Scotland\n\n# app \u003d dash.Dash()\n# app.layout \u003d html.Div(className\u003d\u0027row\u0027, children\u003d[\n#     html.H1(\"NHS COVID Data analysis for Northen Ireland\"),\n#     dcc.Dropdown(),\n#     html.Div(children\u003d[\n#         dcc.Graph(id\u003d\"Graph1\",figure\u003dfig1, style\u003d{\u0027display\u0027: \u0027inline-block\u0027}),\n#         dcc.Graph(id\u003d\"Graph2\",figure\u003dfig2, style\u003d{\u0027display\u0027: \u0027inline-block\u0027}),\n#         dcc.Graph(id\u003d\"Graph3\",figure\u003dfig3, style\u003d{\u0027display\u0027: \u0027inline-block\u0027}),\n#         dcc.Graph(id\u003d\"Graph4\",figure\u003dfig4, style\u003d{\u0027display\u0027: \u0027inline-block\u0027}),\n#         dcc.Graph(id\u003d\"Graph5\",figure\u003dfig5, style\u003d{\u0027display\u0027: \u0027inline-block\u0027}),\n#         dcc.Graph(id\u003d\"Graph6\",figure\u003dfig6, style\u003d{\u0027display\u0027: \u0027inline-block\u0027}),\n#         dcc.Graph(id\u003d\"Graph7\",figure\u003dfig7, style\u003d{\u0027display\u0027: \u0027inline-block\u0027}),\n#         dcc.Graph(id\u003d\"Graph8\",figure\u003dfig8, style\u003d{\u0027display\u0027: \u0027inline-block\u0027}),\n#         dcc.Graph(id\u003d\"Graph9\",figure\u003dfig_hist1, style\u003d{\u0027display\u0027: \u0027inline-block\u0027})        \n#     ])\n# ])\n# app.run_server(debug\u003dTrue, use_reloader\u003dFalse)  # Turn off reloader if inside Jupyter\n\napp \u003d dash.Dash()\napp.layout \u003d html.Div(className\u003d\u0027row\u0027, children\u003d[\n    html.H1(\"NHS COVID Data analysis for Scotland\"),\n    dcc.Dropdown(),\n    html.Div(children\u003d[\n        dcc.Graph(id\u003d\"Graph1\",figure\u003dfig17, style\u003d{\u0027display\u0027: \u0027inline-block\u0027}),\n        dcc.Graph(id\u003d\"Graph2\",figure\u003dfig18, style\u003d{\u0027display\u0027: \u0027inline-block\u0027}),\n        dcc.Graph(id\u003d\"Graph3\",figure\u003dfig19, style\u003d{\u0027display\u0027: \u0027inline-block\u0027}),\n        dcc.Graph(id\u003d\"Graph4\",figure\u003dfig20, style\u003d{\u0027display\u0027: \u0027inline-block\u0027}),\n        dcc.Graph(id\u003d\"Graph5\",figure\u003dfig21, style\u003d{\u0027display\u0027: \u0027inline-block\u0027}),\n        dcc.Graph(id\u003d\"Graph6\",figure\u003dfig22, style\u003d{\u0027display\u0027: \u0027inline-block\u0027}),\n        dcc.Graph(id\u003d\"Graph7\",figure\u003dfig23, style\u003d{\u0027display\u0027: \u0027inline-block\u0027}),\n        dcc.Graph(id\u003d\"Graph8\",figure\u003dfig24, style\u003d{\u0027display\u0027: \u0027inline-block\u0027}),\n        dcc.Graph(id\u003d\"Graph9\",figure\u003dfig_hist3, style\u003d{\u0027display\u0027: \u0027inline-block\u0027})        \n    ])\n])\napp.run_server(debug\u003dTrue, use_reloader\u003dFalse)  # Turn off reloader if inside Jupyter\n"
    },
    {
      "cell_type": "code",
      "execution_count": 153,
      "metadata": {
        "autoscroll": "auto"
      },
      "outputs": [],
      "source": "%python\n\n# Wales\n\napp \u003d dash.Dash()\napp.layout \u003d html.Div(className\u003d\u0027row\u0027, children\u003d[\n    html.H1(\"NHS COVID Data analysis for Wales\"),\n    dcc.Dropdown(),\n    html.Div(children\u003d[\n        dcc.Graph(id\u003d\"Graph1\",figure\u003dfig25, style\u003d{\u0027display\u0027: \u0027inline-block\u0027}),\n        dcc.Graph(id\u003d\"Graph2\",figure\u003dfig26, style\u003d{\u0027display\u0027: \u0027inline-block\u0027}),\n        dcc.Graph(id\u003d\"Graph3\",figure\u003dfig27, style\u003d{\u0027display\u0027: \u0027inline-block\u0027}),\n        dcc.Graph(id\u003d\"Graph4\",figure\u003dfig28, style\u003d{\u0027display\u0027: \u0027inline-block\u0027}),\n        dcc.Graph(id\u003d\"Graph5\",figure\u003dfig29, style\u003d{\u0027display\u0027: \u0027inline-block\u0027}),\n        dcc.Graph(id\u003d\"Graph6\",figure\u003dfig30, style\u003d{\u0027display\u0027: \u0027inline-block\u0027}),\n        dcc.Graph(id\u003d\"Graph7\",figure\u003dfig31, style\u003d{\u0027display\u0027: \u0027inline-block\u0027}),\n        dcc.Graph(id\u003d\"Graph8\",figure\u003dfig32, style\u003d{\u0027display\u0027: \u0027inline-block\u0027}),\n        dcc.Graph(id\u003d\"Graph9\",figure\u003dfig_hist4, style\u003d{\u0027display\u0027: \u0027inline-block\u0027})        \n    ])\n])\napp.run_server(debug\u003dTrue, use_reloader\u003dFalse)  # Turn off reloader if inside Jupyter\n\n"
    },
    {
      "cell_type": "raw",
      "metadata": {
        "format": "text/plain"
      },
      "source": "%python\n"
    }
  ]
}